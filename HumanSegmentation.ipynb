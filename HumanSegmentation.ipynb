{
 "cells": [
  {
   "cell_type": "code",
   "execution_count": 67,
   "metadata": {
    "id": "S9xCaGa8RHLK",
    "ExecuteTime": {
     "end_time": "2023-10-20T12:13:12.379023Z",
     "start_time": "2023-10-20T12:13:02.644640Z"
    }
   },
   "outputs": [
    {
     "name": "stdout",
     "output_type": "stream",
     "text": [
      "Found existing installation: torch 2.1.0\r\n",
      "Uninstalling torch-2.1.0:\r\n",
      "  Successfully uninstalled torch-2.1.0\r\n",
      "Found existing installation: torchvision 0.16.0\r\n",
      "Uninstalling torchvision-0.16.0:\r\n",
      "  Successfully uninstalled torchvision-0.16.0\r\n",
      "Collecting torch==2.1.0\r\n",
      "  Obtaining dependency information for torch==2.1.0 from https://files.pythonhosted.org/packages/4c/53/f1e58e147df8601c963df4b15045631f7e3d3caa5973bdf4e54a5cf6834e/torch-2.1.0-cp39-none-macosx_11_0_arm64.whl.metadata\r\n",
      "  Using cached torch-2.1.0-cp39-none-macosx_11_0_arm64.whl.metadata (24 kB)\r\n",
      "Requirement already satisfied: filelock in /Users/rouna/anaconda3/envs/thirdlama/lib/python3.9/site-packages (from torch==2.1.0) (3.12.4)\r\n",
      "Requirement already satisfied: typing-extensions in /Users/rouna/anaconda3/envs/thirdlama/lib/python3.9/site-packages (from torch==2.1.0) (4.7.1)\r\n",
      "Requirement already satisfied: sympy in /Users/rouna/anaconda3/envs/thirdlama/lib/python3.9/site-packages (from torch==2.1.0) (1.12)\r\n",
      "Requirement already satisfied: networkx in /Users/rouna/anaconda3/envs/thirdlama/lib/python3.9/site-packages (from torch==2.1.0) (3.1)\r\n",
      "Requirement already satisfied: jinja2 in /Users/rouna/anaconda3/envs/thirdlama/lib/python3.9/site-packages (from torch==2.1.0) (3.1.2)\r\n",
      "Requirement already satisfied: fsspec in /Users/rouna/anaconda3/envs/thirdlama/lib/python3.9/site-packages (from torch==2.1.0) (2023.9.2)\r\n",
      "Requirement already satisfied: MarkupSafe>=2.0 in /Users/rouna/anaconda3/envs/thirdlama/lib/python3.9/site-packages (from jinja2->torch==2.1.0) (2.1.1)\r\n",
      "Requirement already satisfied: mpmath>=0.19 in /Users/rouna/anaconda3/envs/thirdlama/lib/python3.9/site-packages (from sympy->torch==2.1.0) (1.3.0)\r\n",
      "Using cached torch-2.1.0-cp39-none-macosx_11_0_arm64.whl (59.5 MB)\r\n",
      "Installing collected packages: torch\r\n",
      "Successfully installed torch-2.1.0\r\n",
      "Collecting torchvision==0.16.0\r\n",
      "  Obtaining dependency information for torchvision==0.16.0 from https://files.pythonhosted.org/packages/7d/fd/9c2b3d0200532dc4a6211ef0fcf78c0556a27e3b03800333d4caa32bedc5/torchvision-0.16.0-cp39-cp39-macosx_11_0_arm64.whl.metadata\r\n",
      "  Using cached torchvision-0.16.0-cp39-cp39-macosx_11_0_arm64.whl.metadata (6.6 kB)\r\n",
      "Requirement already satisfied: numpy in /Users/rouna/anaconda3/envs/thirdlama/lib/python3.9/site-packages (from torchvision==0.16.0) (1.24.3)\r\n",
      "Requirement already satisfied: requests in /Users/rouna/anaconda3/envs/thirdlama/lib/python3.9/site-packages (from torchvision==0.16.0) (2.31.0)\r\n",
      "Requirement already satisfied: torch==2.1.0 in /Users/rouna/anaconda3/envs/thirdlama/lib/python3.9/site-packages (from torchvision==0.16.0) (2.1.0)\r\n",
      "Requirement already satisfied: pillow!=8.3.*,>=5.3.0 in /Users/rouna/anaconda3/envs/thirdlama/lib/python3.9/site-packages (from torchvision==0.16.0) (9.4.0)\r\n",
      "Requirement already satisfied: filelock in /Users/rouna/anaconda3/envs/thirdlama/lib/python3.9/site-packages (from torch==2.1.0->torchvision==0.16.0) (3.12.4)\r\n",
      "Requirement already satisfied: typing-extensions in /Users/rouna/anaconda3/envs/thirdlama/lib/python3.9/site-packages (from torch==2.1.0->torchvision==0.16.0) (4.7.1)\r\n",
      "Requirement already satisfied: sympy in /Users/rouna/anaconda3/envs/thirdlama/lib/python3.9/site-packages (from torch==2.1.0->torchvision==0.16.0) (1.12)\r\n",
      "Requirement already satisfied: networkx in /Users/rouna/anaconda3/envs/thirdlama/lib/python3.9/site-packages (from torch==2.1.0->torchvision==0.16.0) (3.1)\r\n",
      "Requirement already satisfied: jinja2 in /Users/rouna/anaconda3/envs/thirdlama/lib/python3.9/site-packages (from torch==2.1.0->torchvision==0.16.0) (3.1.2)\r\n",
      "Requirement already satisfied: fsspec in /Users/rouna/anaconda3/envs/thirdlama/lib/python3.9/site-packages (from torch==2.1.0->torchvision==0.16.0) (2023.9.2)\r\n",
      "Requirement already satisfied: charset-normalizer<4,>=2 in /Users/rouna/anaconda3/envs/thirdlama/lib/python3.9/site-packages (from requests->torchvision==0.16.0) (2.0.4)\r\n",
      "Requirement already satisfied: idna<4,>=2.5 in /Users/rouna/anaconda3/envs/thirdlama/lib/python3.9/site-packages (from requests->torchvision==0.16.0) (3.4)\r\n",
      "Requirement already satisfied: urllib3<3,>=1.21.1 in /Users/rouna/anaconda3/envs/thirdlama/lib/python3.9/site-packages (from requests->torchvision==0.16.0) (1.26.16)\r\n",
      "Requirement already satisfied: certifi>=2017.4.17 in /Users/rouna/anaconda3/envs/thirdlama/lib/python3.9/site-packages (from requests->torchvision==0.16.0) (2023.7.22)\r\n",
      "Requirement already satisfied: MarkupSafe>=2.0 in /Users/rouna/anaconda3/envs/thirdlama/lib/python3.9/site-packages (from jinja2->torch==2.1.0->torchvision==0.16.0) (2.1.1)\r\n",
      "Requirement already satisfied: mpmath>=0.19 in /Users/rouna/anaconda3/envs/thirdlama/lib/python3.9/site-packages (from sympy->torch==2.1.0->torchvision==0.16.0) (1.3.0)\r\n",
      "Using cached torchvision-0.16.0-cp39-cp39-macosx_11_0_arm64.whl (1.6 MB)\r\n",
      "Installing collected packages: torchvision\r\n",
      "Successfully installed torchvision-0.16.0\r\n"
     ]
    }
   ],
   "source": [
    "!pip uninstall torch -y\n",
    "!pip uninstall torchvision -y\n",
    "!pip install torch==2.1.0\n",
    "!pip install torchvision==0.16.0\n",
    "import torch\n",
    "import torchvision\n",
    "from torchvision import transforms\n",
    "\n",
    "from google.colab.patches import cv2_imshow\n",
    "from google.colab.patches import cv2\n",
    "\n",
    "from PIL import Image\n",
    "from os import getcwd\n",
    "from os import remove"
   ]
  },
  {
   "cell_type": "code",
   "execution_count": 68,
   "metadata": {
    "colab": {
     "base_uri": "https://localhost:8080/"
    },
    "id": "QsKuSYaDRftI",
    "outputId": "49b51aff-b67e-403b-98c8-04b14941eecc",
    "ExecuteTime": {
     "end_time": "2023-10-20T12:13:13.306049Z",
     "start_time": "2023-10-20T12:13:13.084771Z"
    }
   },
   "outputs": [
    {
     "data": {
      "text/plain": "OptimizedModule(\n  (_orig_mod): RecursiveScriptModule(\n    original_name=MaskRCNN\n    (transform): RecursiveScriptModule(original_name=GeneralizedRCNNTransform)\n    (backbone): RecursiveScriptModule(\n      original_name=BackboneWithFPN\n      (body): RecursiveScriptModule(\n        original_name=IntermediateLayerGetter\n        (conv1): RecursiveScriptModule(original_name=Conv2d)\n        (bn1): RecursiveScriptModule(original_name=BatchNorm2d)\n        (relu): RecursiveScriptModule(original_name=ReLU)\n        (maxpool): RecursiveScriptModule(original_name=MaxPool2d)\n        (layer1): RecursiveScriptModule(\n          original_name=Sequential\n          (0): RecursiveScriptModule(\n            original_name=Bottleneck\n            (conv1): RecursiveScriptModule(original_name=Conv2d)\n            (bn1): RecursiveScriptModule(original_name=BatchNorm2d)\n            (conv2): RecursiveScriptModule(original_name=Conv2d)\n            (bn2): RecursiveScriptModule(original_name=BatchNorm2d)\n            (conv3): RecursiveScriptModule(original_name=Conv2d)\n            (bn3): RecursiveScriptModule(original_name=BatchNorm2d)\n            (relu): RecursiveScriptModule(original_name=ReLU)\n            (downsample): RecursiveScriptModule(\n              original_name=Sequential\n              (0): RecursiveScriptModule(original_name=Conv2d)\n              (1): RecursiveScriptModule(original_name=BatchNorm2d)\n            )\n          )\n          (1): RecursiveScriptModule(\n            original_name=Bottleneck\n            (conv1): RecursiveScriptModule(original_name=Conv2d)\n            (bn1): RecursiveScriptModule(original_name=BatchNorm2d)\n            (conv2): RecursiveScriptModule(original_name=Conv2d)\n            (bn2): RecursiveScriptModule(original_name=BatchNorm2d)\n            (conv3): RecursiveScriptModule(original_name=Conv2d)\n            (bn3): RecursiveScriptModule(original_name=BatchNorm2d)\n            (relu): RecursiveScriptModule(original_name=ReLU)\n          )\n          (2): RecursiveScriptModule(\n            original_name=Bottleneck\n            (conv1): RecursiveScriptModule(original_name=Conv2d)\n            (bn1): RecursiveScriptModule(original_name=BatchNorm2d)\n            (conv2): RecursiveScriptModule(original_name=Conv2d)\n            (bn2): RecursiveScriptModule(original_name=BatchNorm2d)\n            (conv3): RecursiveScriptModule(original_name=Conv2d)\n            (bn3): RecursiveScriptModule(original_name=BatchNorm2d)\n            (relu): RecursiveScriptModule(original_name=ReLU)\n          )\n        )\n        (layer2): RecursiveScriptModule(\n          original_name=Sequential\n          (0): RecursiveScriptModule(\n            original_name=Bottleneck\n            (conv1): RecursiveScriptModule(original_name=Conv2d)\n            (bn1): RecursiveScriptModule(original_name=BatchNorm2d)\n            (conv2): RecursiveScriptModule(original_name=Conv2d)\n            (bn2): RecursiveScriptModule(original_name=BatchNorm2d)\n            (conv3): RecursiveScriptModule(original_name=Conv2d)\n            (bn3): RecursiveScriptModule(original_name=BatchNorm2d)\n            (relu): RecursiveScriptModule(original_name=ReLU)\n            (downsample): RecursiveScriptModule(\n              original_name=Sequential\n              (0): RecursiveScriptModule(original_name=Conv2d)\n              (1): RecursiveScriptModule(original_name=BatchNorm2d)\n            )\n          )\n          (1): RecursiveScriptModule(\n            original_name=Bottleneck\n            (conv1): RecursiveScriptModule(original_name=Conv2d)\n            (bn1): RecursiveScriptModule(original_name=BatchNorm2d)\n            (conv2): RecursiveScriptModule(original_name=Conv2d)\n            (bn2): RecursiveScriptModule(original_name=BatchNorm2d)\n            (conv3): RecursiveScriptModule(original_name=Conv2d)\n            (bn3): RecursiveScriptModule(original_name=BatchNorm2d)\n            (relu): RecursiveScriptModule(original_name=ReLU)\n          )\n          (2): RecursiveScriptModule(\n            original_name=Bottleneck\n            (conv1): RecursiveScriptModule(original_name=Conv2d)\n            (bn1): RecursiveScriptModule(original_name=BatchNorm2d)\n            (conv2): RecursiveScriptModule(original_name=Conv2d)\n            (bn2): RecursiveScriptModule(original_name=BatchNorm2d)\n            (conv3): RecursiveScriptModule(original_name=Conv2d)\n            (bn3): RecursiveScriptModule(original_name=BatchNorm2d)\n            (relu): RecursiveScriptModule(original_name=ReLU)\n          )\n          (3): RecursiveScriptModule(\n            original_name=Bottleneck\n            (conv1): RecursiveScriptModule(original_name=Conv2d)\n            (bn1): RecursiveScriptModule(original_name=BatchNorm2d)\n            (conv2): RecursiveScriptModule(original_name=Conv2d)\n            (bn2): RecursiveScriptModule(original_name=BatchNorm2d)\n            (conv3): RecursiveScriptModule(original_name=Conv2d)\n            (bn3): RecursiveScriptModule(original_name=BatchNorm2d)\n            (relu): RecursiveScriptModule(original_name=ReLU)\n          )\n        )\n        (layer3): RecursiveScriptModule(\n          original_name=Sequential\n          (0): RecursiveScriptModule(\n            original_name=Bottleneck\n            (conv1): RecursiveScriptModule(original_name=Conv2d)\n            (bn1): RecursiveScriptModule(original_name=BatchNorm2d)\n            (conv2): RecursiveScriptModule(original_name=Conv2d)\n            (bn2): RecursiveScriptModule(original_name=BatchNorm2d)\n            (conv3): RecursiveScriptModule(original_name=Conv2d)\n            (bn3): RecursiveScriptModule(original_name=BatchNorm2d)\n            (relu): RecursiveScriptModule(original_name=ReLU)\n            (downsample): RecursiveScriptModule(\n              original_name=Sequential\n              (0): RecursiveScriptModule(original_name=Conv2d)\n              (1): RecursiveScriptModule(original_name=BatchNorm2d)\n            )\n          )\n          (1): RecursiveScriptModule(\n            original_name=Bottleneck\n            (conv1): RecursiveScriptModule(original_name=Conv2d)\n            (bn1): RecursiveScriptModule(original_name=BatchNorm2d)\n            (conv2): RecursiveScriptModule(original_name=Conv2d)\n            (bn2): RecursiveScriptModule(original_name=BatchNorm2d)\n            (conv3): RecursiveScriptModule(original_name=Conv2d)\n            (bn3): RecursiveScriptModule(original_name=BatchNorm2d)\n            (relu): RecursiveScriptModule(original_name=ReLU)\n          )\n          (2): RecursiveScriptModule(\n            original_name=Bottleneck\n            (conv1): RecursiveScriptModule(original_name=Conv2d)\n            (bn1): RecursiveScriptModule(original_name=BatchNorm2d)\n            (conv2): RecursiveScriptModule(original_name=Conv2d)\n            (bn2): RecursiveScriptModule(original_name=BatchNorm2d)\n            (conv3): RecursiveScriptModule(original_name=Conv2d)\n            (bn3): RecursiveScriptModule(original_name=BatchNorm2d)\n            (relu): RecursiveScriptModule(original_name=ReLU)\n          )\n          (3): RecursiveScriptModule(\n            original_name=Bottleneck\n            (conv1): RecursiveScriptModule(original_name=Conv2d)\n            (bn1): RecursiveScriptModule(original_name=BatchNorm2d)\n            (conv2): RecursiveScriptModule(original_name=Conv2d)\n            (bn2): RecursiveScriptModule(original_name=BatchNorm2d)\n            (conv3): RecursiveScriptModule(original_name=Conv2d)\n            (bn3): RecursiveScriptModule(original_name=BatchNorm2d)\n            (relu): RecursiveScriptModule(original_name=ReLU)\n          )\n          (4): RecursiveScriptModule(\n            original_name=Bottleneck\n            (conv1): RecursiveScriptModule(original_name=Conv2d)\n            (bn1): RecursiveScriptModule(original_name=BatchNorm2d)\n            (conv2): RecursiveScriptModule(original_name=Conv2d)\n            (bn2): RecursiveScriptModule(original_name=BatchNorm2d)\n            (conv3): RecursiveScriptModule(original_name=Conv2d)\n            (bn3): RecursiveScriptModule(original_name=BatchNorm2d)\n            (relu): RecursiveScriptModule(original_name=ReLU)\n          )\n          (5): RecursiveScriptModule(\n            original_name=Bottleneck\n            (conv1): RecursiveScriptModule(original_name=Conv2d)\n            (bn1): RecursiveScriptModule(original_name=BatchNorm2d)\n            (conv2): RecursiveScriptModule(original_name=Conv2d)\n            (bn2): RecursiveScriptModule(original_name=BatchNorm2d)\n            (conv3): RecursiveScriptModule(original_name=Conv2d)\n            (bn3): RecursiveScriptModule(original_name=BatchNorm2d)\n            (relu): RecursiveScriptModule(original_name=ReLU)\n          )\n        )\n        (layer4): RecursiveScriptModule(\n          original_name=Sequential\n          (0): RecursiveScriptModule(\n            original_name=Bottleneck\n            (conv1): RecursiveScriptModule(original_name=Conv2d)\n            (bn1): RecursiveScriptModule(original_name=BatchNorm2d)\n            (conv2): RecursiveScriptModule(original_name=Conv2d)\n            (bn2): RecursiveScriptModule(original_name=BatchNorm2d)\n            (conv3): RecursiveScriptModule(original_name=Conv2d)\n            (bn3): RecursiveScriptModule(original_name=BatchNorm2d)\n            (relu): RecursiveScriptModule(original_name=ReLU)\n            (downsample): RecursiveScriptModule(\n              original_name=Sequential\n              (0): RecursiveScriptModule(original_name=Conv2d)\n              (1): RecursiveScriptModule(original_name=BatchNorm2d)\n            )\n          )\n          (1): RecursiveScriptModule(\n            original_name=Bottleneck\n            (conv1): RecursiveScriptModule(original_name=Conv2d)\n            (bn1): RecursiveScriptModule(original_name=BatchNorm2d)\n            (conv2): RecursiveScriptModule(original_name=Conv2d)\n            (bn2): RecursiveScriptModule(original_name=BatchNorm2d)\n            (conv3): RecursiveScriptModule(original_name=Conv2d)\n            (bn3): RecursiveScriptModule(original_name=BatchNorm2d)\n            (relu): RecursiveScriptModule(original_name=ReLU)\n          )\n          (2): RecursiveScriptModule(\n            original_name=Bottleneck\n            (conv1): RecursiveScriptModule(original_name=Conv2d)\n            (bn1): RecursiveScriptModule(original_name=BatchNorm2d)\n            (conv2): RecursiveScriptModule(original_name=Conv2d)\n            (bn2): RecursiveScriptModule(original_name=BatchNorm2d)\n            (conv3): RecursiveScriptModule(original_name=Conv2d)\n            (bn3): RecursiveScriptModule(original_name=BatchNorm2d)\n            (relu): RecursiveScriptModule(original_name=ReLU)\n          )\n        )\n      )\n      (fpn): RecursiveScriptModule(\n        original_name=FeaturePyramidNetwork\n        (inner_blocks): RecursiveScriptModule(\n          original_name=ModuleList\n          (0): RecursiveScriptModule(\n            original_name=Conv2dNormActivation\n            (0): RecursiveScriptModule(original_name=Conv2d)\n            (1): RecursiveScriptModule(original_name=BatchNorm2d)\n          )\n          (1): RecursiveScriptModule(\n            original_name=Conv2dNormActivation\n            (0): RecursiveScriptModule(original_name=Conv2d)\n            (1): RecursiveScriptModule(original_name=BatchNorm2d)\n          )\n          (2): RecursiveScriptModule(\n            original_name=Conv2dNormActivation\n            (0): RecursiveScriptModule(original_name=Conv2d)\n            (1): RecursiveScriptModule(original_name=BatchNorm2d)\n          )\n          (3): RecursiveScriptModule(\n            original_name=Conv2dNormActivation\n            (0): RecursiveScriptModule(original_name=Conv2d)\n            (1): RecursiveScriptModule(original_name=BatchNorm2d)\n          )\n        )\n        (layer_blocks): RecursiveScriptModule(\n          original_name=ModuleList\n          (0): RecursiveScriptModule(\n            original_name=Conv2dNormActivation\n            (0): RecursiveScriptModule(original_name=Conv2d)\n            (1): RecursiveScriptModule(original_name=BatchNorm2d)\n          )\n          (1): RecursiveScriptModule(\n            original_name=Conv2dNormActivation\n            (0): RecursiveScriptModule(original_name=Conv2d)\n            (1): RecursiveScriptModule(original_name=BatchNorm2d)\n          )\n          (2): RecursiveScriptModule(\n            original_name=Conv2dNormActivation\n            (0): RecursiveScriptModule(original_name=Conv2d)\n            (1): RecursiveScriptModule(original_name=BatchNorm2d)\n          )\n          (3): RecursiveScriptModule(\n            original_name=Conv2dNormActivation\n            (0): RecursiveScriptModule(original_name=Conv2d)\n            (1): RecursiveScriptModule(original_name=BatchNorm2d)\n          )\n        )\n        (extra_blocks): RecursiveScriptModule(original_name=LastLevelMaxPool)\n      )\n    )\n    (rpn): RecursiveScriptModule(\n      original_name=RegionProposalNetwork\n      (anchor_generator): RecursiveScriptModule(original_name=AnchorGenerator)\n      (head): RecursiveScriptModule(\n        original_name=RPNHead\n        (conv): RecursiveScriptModule(\n          original_name=Sequential\n          (0): RecursiveScriptModule(\n            original_name=Conv2dNormActivation\n            (0): RecursiveScriptModule(original_name=Conv2d)\n            (1): RecursiveScriptModule(original_name=ReLU)\n          )\n          (1): RecursiveScriptModule(\n            original_name=Conv2dNormActivation\n            (0): RecursiveScriptModule(original_name=Conv2d)\n            (1): RecursiveScriptModule(original_name=ReLU)\n          )\n        )\n        (cls_logits): RecursiveScriptModule(original_name=Conv2d)\n        (bbox_pred): RecursiveScriptModule(original_name=Conv2d)\n      )\n    )\n    (roi_heads): RecursiveScriptModule(\n      original_name=RoIHeads\n      (box_roi_pool): RecursiveScriptModule(original_name=MultiScaleRoIAlign)\n      (box_head): RecursiveScriptModule(\n        original_name=FastRCNNConvFCHead\n        (0): RecursiveScriptModule(\n          original_name=Conv2dNormActivation\n          (0): RecursiveScriptModule(original_name=Conv2d)\n          (1): RecursiveScriptModule(original_name=BatchNorm2d)\n          (2): RecursiveScriptModule(original_name=ReLU)\n        )\n        (1): RecursiveScriptModule(\n          original_name=Conv2dNormActivation\n          (0): RecursiveScriptModule(original_name=Conv2d)\n          (1): RecursiveScriptModule(original_name=BatchNorm2d)\n          (2): RecursiveScriptModule(original_name=ReLU)\n        )\n        (2): RecursiveScriptModule(\n          original_name=Conv2dNormActivation\n          (0): RecursiveScriptModule(original_name=Conv2d)\n          (1): RecursiveScriptModule(original_name=BatchNorm2d)\n          (2): RecursiveScriptModule(original_name=ReLU)\n        )\n        (3): RecursiveScriptModule(\n          original_name=Conv2dNormActivation\n          (0): RecursiveScriptModule(original_name=Conv2d)\n          (1): RecursiveScriptModule(original_name=BatchNorm2d)\n          (2): RecursiveScriptModule(original_name=ReLU)\n        )\n        (4): RecursiveScriptModule(original_name=Flatten)\n        (5): RecursiveScriptModule(original_name=Linear)\n        (6): RecursiveScriptModule(original_name=ReLU)\n      )\n      (box_predictor): RecursiveScriptModule(\n        original_name=FastRCNNPredictor\n        (cls_score): RecursiveScriptModule(original_name=Linear)\n        (bbox_pred): RecursiveScriptModule(original_name=Linear)\n      )\n      (mask_roi_pool): RecursiveScriptModule(original_name=MultiScaleRoIAlign)\n      (mask_head): RecursiveScriptModule(\n        original_name=MaskRCNNHeads\n        (0): RecursiveScriptModule(\n          original_name=Conv2dNormActivation\n          (0): RecursiveScriptModule(original_name=Conv2d)\n          (1): RecursiveScriptModule(original_name=BatchNorm2d)\n          (2): RecursiveScriptModule(original_name=ReLU)\n        )\n        (1): RecursiveScriptModule(\n          original_name=Conv2dNormActivation\n          (0): RecursiveScriptModule(original_name=Conv2d)\n          (1): RecursiveScriptModule(original_name=BatchNorm2d)\n          (2): RecursiveScriptModule(original_name=ReLU)\n        )\n        (2): RecursiveScriptModule(\n          original_name=Conv2dNormActivation\n          (0): RecursiveScriptModule(original_name=Conv2d)\n          (1): RecursiveScriptModule(original_name=BatchNorm2d)\n          (2): RecursiveScriptModule(original_name=ReLU)\n        )\n        (3): RecursiveScriptModule(\n          original_name=Conv2dNormActivation\n          (0): RecursiveScriptModule(original_name=Conv2d)\n          (1): RecursiveScriptModule(original_name=BatchNorm2d)\n          (2): RecursiveScriptModule(original_name=ReLU)\n        )\n      )\n      (mask_predictor): RecursiveScriptModule(\n        original_name=MaskRCNNPredictor\n        (conv5_mask): RecursiveScriptModule(original_name=ConvTranspose2d)\n        (relu): RecursiveScriptModule(original_name=ReLU)\n        (mask_fcn_logits): RecursiveScriptModule(original_name=Conv2d)\n      )\n    )\n  )\n)"
     },
     "execution_count": 68,
     "metadata": {},
     "output_type": "execute_result"
    }
   ],
   "source": [
    "model = torch.jit.load('runs/run Oct-19-2023 23:34:07/checkpoint Oct-20-2023 00:37:55.pt')\n",
    "model = torch.compile(model)\n",
    "model"
   ]
  },
  {
   "cell_type": "code",
   "execution_count": 69,
   "metadata": {
    "collapsed": false,
    "ExecuteTime": {
     "end_time": "2023-10-20T12:13:14.129888Z",
     "start_time": "2023-10-20T12:13:14.126519Z"
    }
   },
   "outputs": [
    {
     "data": {
      "text/plain": "OptimizedModule(\n  (_orig_mod): RecursiveScriptModule(\n    original_name=MaskRCNN\n    (transform): RecursiveScriptModule(original_name=GeneralizedRCNNTransform)\n    (backbone): RecursiveScriptModule(\n      original_name=BackboneWithFPN\n      (body): RecursiveScriptModule(\n        original_name=IntermediateLayerGetter\n        (conv1): RecursiveScriptModule(original_name=Conv2d)\n        (bn1): RecursiveScriptModule(original_name=BatchNorm2d)\n        (relu): RecursiveScriptModule(original_name=ReLU)\n        (maxpool): RecursiveScriptModule(original_name=MaxPool2d)\n        (layer1): RecursiveScriptModule(\n          original_name=Sequential\n          (0): RecursiveScriptModule(\n            original_name=Bottleneck\n            (conv1): RecursiveScriptModule(original_name=Conv2d)\n            (bn1): RecursiveScriptModule(original_name=BatchNorm2d)\n            (conv2): RecursiveScriptModule(original_name=Conv2d)\n            (bn2): RecursiveScriptModule(original_name=BatchNorm2d)\n            (conv3): RecursiveScriptModule(original_name=Conv2d)\n            (bn3): RecursiveScriptModule(original_name=BatchNorm2d)\n            (relu): RecursiveScriptModule(original_name=ReLU)\n            (downsample): RecursiveScriptModule(\n              original_name=Sequential\n              (0): RecursiveScriptModule(original_name=Conv2d)\n              (1): RecursiveScriptModule(original_name=BatchNorm2d)\n            )\n          )\n          (1): RecursiveScriptModule(\n            original_name=Bottleneck\n            (conv1): RecursiveScriptModule(original_name=Conv2d)\n            (bn1): RecursiveScriptModule(original_name=BatchNorm2d)\n            (conv2): RecursiveScriptModule(original_name=Conv2d)\n            (bn2): RecursiveScriptModule(original_name=BatchNorm2d)\n            (conv3): RecursiveScriptModule(original_name=Conv2d)\n            (bn3): RecursiveScriptModule(original_name=BatchNorm2d)\n            (relu): RecursiveScriptModule(original_name=ReLU)\n          )\n          (2): RecursiveScriptModule(\n            original_name=Bottleneck\n            (conv1): RecursiveScriptModule(original_name=Conv2d)\n            (bn1): RecursiveScriptModule(original_name=BatchNorm2d)\n            (conv2): RecursiveScriptModule(original_name=Conv2d)\n            (bn2): RecursiveScriptModule(original_name=BatchNorm2d)\n            (conv3): RecursiveScriptModule(original_name=Conv2d)\n            (bn3): RecursiveScriptModule(original_name=BatchNorm2d)\n            (relu): RecursiveScriptModule(original_name=ReLU)\n          )\n        )\n        (layer2): RecursiveScriptModule(\n          original_name=Sequential\n          (0): RecursiveScriptModule(\n            original_name=Bottleneck\n            (conv1): RecursiveScriptModule(original_name=Conv2d)\n            (bn1): RecursiveScriptModule(original_name=BatchNorm2d)\n            (conv2): RecursiveScriptModule(original_name=Conv2d)\n            (bn2): RecursiveScriptModule(original_name=BatchNorm2d)\n            (conv3): RecursiveScriptModule(original_name=Conv2d)\n            (bn3): RecursiveScriptModule(original_name=BatchNorm2d)\n            (relu): RecursiveScriptModule(original_name=ReLU)\n            (downsample): RecursiveScriptModule(\n              original_name=Sequential\n              (0): RecursiveScriptModule(original_name=Conv2d)\n              (1): RecursiveScriptModule(original_name=BatchNorm2d)\n            )\n          )\n          (1): RecursiveScriptModule(\n            original_name=Bottleneck\n            (conv1): RecursiveScriptModule(original_name=Conv2d)\n            (bn1): RecursiveScriptModule(original_name=BatchNorm2d)\n            (conv2): RecursiveScriptModule(original_name=Conv2d)\n            (bn2): RecursiveScriptModule(original_name=BatchNorm2d)\n            (conv3): RecursiveScriptModule(original_name=Conv2d)\n            (bn3): RecursiveScriptModule(original_name=BatchNorm2d)\n            (relu): RecursiveScriptModule(original_name=ReLU)\n          )\n          (2): RecursiveScriptModule(\n            original_name=Bottleneck\n            (conv1): RecursiveScriptModule(original_name=Conv2d)\n            (bn1): RecursiveScriptModule(original_name=BatchNorm2d)\n            (conv2): RecursiveScriptModule(original_name=Conv2d)\n            (bn2): RecursiveScriptModule(original_name=BatchNorm2d)\n            (conv3): RecursiveScriptModule(original_name=Conv2d)\n            (bn3): RecursiveScriptModule(original_name=BatchNorm2d)\n            (relu): RecursiveScriptModule(original_name=ReLU)\n          )\n          (3): RecursiveScriptModule(\n            original_name=Bottleneck\n            (conv1): RecursiveScriptModule(original_name=Conv2d)\n            (bn1): RecursiveScriptModule(original_name=BatchNorm2d)\n            (conv2): RecursiveScriptModule(original_name=Conv2d)\n            (bn2): RecursiveScriptModule(original_name=BatchNorm2d)\n            (conv3): RecursiveScriptModule(original_name=Conv2d)\n            (bn3): RecursiveScriptModule(original_name=BatchNorm2d)\n            (relu): RecursiveScriptModule(original_name=ReLU)\n          )\n        )\n        (layer3): RecursiveScriptModule(\n          original_name=Sequential\n          (0): RecursiveScriptModule(\n            original_name=Bottleneck\n            (conv1): RecursiveScriptModule(original_name=Conv2d)\n            (bn1): RecursiveScriptModule(original_name=BatchNorm2d)\n            (conv2): RecursiveScriptModule(original_name=Conv2d)\n            (bn2): RecursiveScriptModule(original_name=BatchNorm2d)\n            (conv3): RecursiveScriptModule(original_name=Conv2d)\n            (bn3): RecursiveScriptModule(original_name=BatchNorm2d)\n            (relu): RecursiveScriptModule(original_name=ReLU)\n            (downsample): RecursiveScriptModule(\n              original_name=Sequential\n              (0): RecursiveScriptModule(original_name=Conv2d)\n              (1): RecursiveScriptModule(original_name=BatchNorm2d)\n            )\n          )\n          (1): RecursiveScriptModule(\n            original_name=Bottleneck\n            (conv1): RecursiveScriptModule(original_name=Conv2d)\n            (bn1): RecursiveScriptModule(original_name=BatchNorm2d)\n            (conv2): RecursiveScriptModule(original_name=Conv2d)\n            (bn2): RecursiveScriptModule(original_name=BatchNorm2d)\n            (conv3): RecursiveScriptModule(original_name=Conv2d)\n            (bn3): RecursiveScriptModule(original_name=BatchNorm2d)\n            (relu): RecursiveScriptModule(original_name=ReLU)\n          )\n          (2): RecursiveScriptModule(\n            original_name=Bottleneck\n            (conv1): RecursiveScriptModule(original_name=Conv2d)\n            (bn1): RecursiveScriptModule(original_name=BatchNorm2d)\n            (conv2): RecursiveScriptModule(original_name=Conv2d)\n            (bn2): RecursiveScriptModule(original_name=BatchNorm2d)\n            (conv3): RecursiveScriptModule(original_name=Conv2d)\n            (bn3): RecursiveScriptModule(original_name=BatchNorm2d)\n            (relu): RecursiveScriptModule(original_name=ReLU)\n          )\n          (3): RecursiveScriptModule(\n            original_name=Bottleneck\n            (conv1): RecursiveScriptModule(original_name=Conv2d)\n            (bn1): RecursiveScriptModule(original_name=BatchNorm2d)\n            (conv2): RecursiveScriptModule(original_name=Conv2d)\n            (bn2): RecursiveScriptModule(original_name=BatchNorm2d)\n            (conv3): RecursiveScriptModule(original_name=Conv2d)\n            (bn3): RecursiveScriptModule(original_name=BatchNorm2d)\n            (relu): RecursiveScriptModule(original_name=ReLU)\n          )\n          (4): RecursiveScriptModule(\n            original_name=Bottleneck\n            (conv1): RecursiveScriptModule(original_name=Conv2d)\n            (bn1): RecursiveScriptModule(original_name=BatchNorm2d)\n            (conv2): RecursiveScriptModule(original_name=Conv2d)\n            (bn2): RecursiveScriptModule(original_name=BatchNorm2d)\n            (conv3): RecursiveScriptModule(original_name=Conv2d)\n            (bn3): RecursiveScriptModule(original_name=BatchNorm2d)\n            (relu): RecursiveScriptModule(original_name=ReLU)\n          )\n          (5): RecursiveScriptModule(\n            original_name=Bottleneck\n            (conv1): RecursiveScriptModule(original_name=Conv2d)\n            (bn1): RecursiveScriptModule(original_name=BatchNorm2d)\n            (conv2): RecursiveScriptModule(original_name=Conv2d)\n            (bn2): RecursiveScriptModule(original_name=BatchNorm2d)\n            (conv3): RecursiveScriptModule(original_name=Conv2d)\n            (bn3): RecursiveScriptModule(original_name=BatchNorm2d)\n            (relu): RecursiveScriptModule(original_name=ReLU)\n          )\n        )\n        (layer4): RecursiveScriptModule(\n          original_name=Sequential\n          (0): RecursiveScriptModule(\n            original_name=Bottleneck\n            (conv1): RecursiveScriptModule(original_name=Conv2d)\n            (bn1): RecursiveScriptModule(original_name=BatchNorm2d)\n            (conv2): RecursiveScriptModule(original_name=Conv2d)\n            (bn2): RecursiveScriptModule(original_name=BatchNorm2d)\n            (conv3): RecursiveScriptModule(original_name=Conv2d)\n            (bn3): RecursiveScriptModule(original_name=BatchNorm2d)\n            (relu): RecursiveScriptModule(original_name=ReLU)\n            (downsample): RecursiveScriptModule(\n              original_name=Sequential\n              (0): RecursiveScriptModule(original_name=Conv2d)\n              (1): RecursiveScriptModule(original_name=BatchNorm2d)\n            )\n          )\n          (1): RecursiveScriptModule(\n            original_name=Bottleneck\n            (conv1): RecursiveScriptModule(original_name=Conv2d)\n            (bn1): RecursiveScriptModule(original_name=BatchNorm2d)\n            (conv2): RecursiveScriptModule(original_name=Conv2d)\n            (bn2): RecursiveScriptModule(original_name=BatchNorm2d)\n            (conv3): RecursiveScriptModule(original_name=Conv2d)\n            (bn3): RecursiveScriptModule(original_name=BatchNorm2d)\n            (relu): RecursiveScriptModule(original_name=ReLU)\n          )\n          (2): RecursiveScriptModule(\n            original_name=Bottleneck\n            (conv1): RecursiveScriptModule(original_name=Conv2d)\n            (bn1): RecursiveScriptModule(original_name=BatchNorm2d)\n            (conv2): RecursiveScriptModule(original_name=Conv2d)\n            (bn2): RecursiveScriptModule(original_name=BatchNorm2d)\n            (conv3): RecursiveScriptModule(original_name=Conv2d)\n            (bn3): RecursiveScriptModule(original_name=BatchNorm2d)\n            (relu): RecursiveScriptModule(original_name=ReLU)\n          )\n        )\n      )\n      (fpn): RecursiveScriptModule(\n        original_name=FeaturePyramidNetwork\n        (inner_blocks): RecursiveScriptModule(\n          original_name=ModuleList\n          (0): RecursiveScriptModule(\n            original_name=Conv2dNormActivation\n            (0): RecursiveScriptModule(original_name=Conv2d)\n            (1): RecursiveScriptModule(original_name=BatchNorm2d)\n          )\n          (1): RecursiveScriptModule(\n            original_name=Conv2dNormActivation\n            (0): RecursiveScriptModule(original_name=Conv2d)\n            (1): RecursiveScriptModule(original_name=BatchNorm2d)\n          )\n          (2): RecursiveScriptModule(\n            original_name=Conv2dNormActivation\n            (0): RecursiveScriptModule(original_name=Conv2d)\n            (1): RecursiveScriptModule(original_name=BatchNorm2d)\n          )\n          (3): RecursiveScriptModule(\n            original_name=Conv2dNormActivation\n            (0): RecursiveScriptModule(original_name=Conv2d)\n            (1): RecursiveScriptModule(original_name=BatchNorm2d)\n          )\n        )\n        (layer_blocks): RecursiveScriptModule(\n          original_name=ModuleList\n          (0): RecursiveScriptModule(\n            original_name=Conv2dNormActivation\n            (0): RecursiveScriptModule(original_name=Conv2d)\n            (1): RecursiveScriptModule(original_name=BatchNorm2d)\n          )\n          (1): RecursiveScriptModule(\n            original_name=Conv2dNormActivation\n            (0): RecursiveScriptModule(original_name=Conv2d)\n            (1): RecursiveScriptModule(original_name=BatchNorm2d)\n          )\n          (2): RecursiveScriptModule(\n            original_name=Conv2dNormActivation\n            (0): RecursiveScriptModule(original_name=Conv2d)\n            (1): RecursiveScriptModule(original_name=BatchNorm2d)\n          )\n          (3): RecursiveScriptModule(\n            original_name=Conv2dNormActivation\n            (0): RecursiveScriptModule(original_name=Conv2d)\n            (1): RecursiveScriptModule(original_name=BatchNorm2d)\n          )\n        )\n        (extra_blocks): RecursiveScriptModule(original_name=LastLevelMaxPool)\n      )\n    )\n    (rpn): RecursiveScriptModule(\n      original_name=RegionProposalNetwork\n      (anchor_generator): RecursiveScriptModule(original_name=AnchorGenerator)\n      (head): RecursiveScriptModule(\n        original_name=RPNHead\n        (conv): RecursiveScriptModule(\n          original_name=Sequential\n          (0): RecursiveScriptModule(\n            original_name=Conv2dNormActivation\n            (0): RecursiveScriptModule(original_name=Conv2d)\n            (1): RecursiveScriptModule(original_name=ReLU)\n          )\n          (1): RecursiveScriptModule(\n            original_name=Conv2dNormActivation\n            (0): RecursiveScriptModule(original_name=Conv2d)\n            (1): RecursiveScriptModule(original_name=ReLU)\n          )\n        )\n        (cls_logits): RecursiveScriptModule(original_name=Conv2d)\n        (bbox_pred): RecursiveScriptModule(original_name=Conv2d)\n      )\n    )\n    (roi_heads): RecursiveScriptModule(\n      original_name=RoIHeads\n      (box_roi_pool): RecursiveScriptModule(original_name=MultiScaleRoIAlign)\n      (box_head): RecursiveScriptModule(\n        original_name=FastRCNNConvFCHead\n        (0): RecursiveScriptModule(\n          original_name=Conv2dNormActivation\n          (0): RecursiveScriptModule(original_name=Conv2d)\n          (1): RecursiveScriptModule(original_name=BatchNorm2d)\n          (2): RecursiveScriptModule(original_name=ReLU)\n        )\n        (1): RecursiveScriptModule(\n          original_name=Conv2dNormActivation\n          (0): RecursiveScriptModule(original_name=Conv2d)\n          (1): RecursiveScriptModule(original_name=BatchNorm2d)\n          (2): RecursiveScriptModule(original_name=ReLU)\n        )\n        (2): RecursiveScriptModule(\n          original_name=Conv2dNormActivation\n          (0): RecursiveScriptModule(original_name=Conv2d)\n          (1): RecursiveScriptModule(original_name=BatchNorm2d)\n          (2): RecursiveScriptModule(original_name=ReLU)\n        )\n        (3): RecursiveScriptModule(\n          original_name=Conv2dNormActivation\n          (0): RecursiveScriptModule(original_name=Conv2d)\n          (1): RecursiveScriptModule(original_name=BatchNorm2d)\n          (2): RecursiveScriptModule(original_name=ReLU)\n        )\n        (4): RecursiveScriptModule(original_name=Flatten)\n        (5): RecursiveScriptModule(original_name=Linear)\n        (6): RecursiveScriptModule(original_name=ReLU)\n      )\n      (box_predictor): RecursiveScriptModule(\n        original_name=FastRCNNPredictor\n        (cls_score): RecursiveScriptModule(original_name=Linear)\n        (bbox_pred): RecursiveScriptModule(original_name=Linear)\n      )\n      (mask_roi_pool): RecursiveScriptModule(original_name=MultiScaleRoIAlign)\n      (mask_head): RecursiveScriptModule(\n        original_name=MaskRCNNHeads\n        (0): RecursiveScriptModule(\n          original_name=Conv2dNormActivation\n          (0): RecursiveScriptModule(original_name=Conv2d)\n          (1): RecursiveScriptModule(original_name=BatchNorm2d)\n          (2): RecursiveScriptModule(original_name=ReLU)\n        )\n        (1): RecursiveScriptModule(\n          original_name=Conv2dNormActivation\n          (0): RecursiveScriptModule(original_name=Conv2d)\n          (1): RecursiveScriptModule(original_name=BatchNorm2d)\n          (2): RecursiveScriptModule(original_name=ReLU)\n        )\n        (2): RecursiveScriptModule(\n          original_name=Conv2dNormActivation\n          (0): RecursiveScriptModule(original_name=Conv2d)\n          (1): RecursiveScriptModule(original_name=BatchNorm2d)\n          (2): RecursiveScriptModule(original_name=ReLU)\n        )\n        (3): RecursiveScriptModule(\n          original_name=Conv2dNormActivation\n          (0): RecursiveScriptModule(original_name=Conv2d)\n          (1): RecursiveScriptModule(original_name=BatchNorm2d)\n          (2): RecursiveScriptModule(original_name=ReLU)\n        )\n      )\n      (mask_predictor): RecursiveScriptModule(\n        original_name=MaskRCNNPredictor\n        (conv5_mask): RecursiveScriptModule(original_name=ConvTranspose2d)\n        (relu): RecursiveScriptModule(original_name=ReLU)\n        (mask_fcn_logits): RecursiveScriptModule(original_name=Conv2d)\n      )\n    )\n  )\n)"
     },
     "execution_count": 69,
     "metadata": {},
     "output_type": "execute_result"
    }
   ],
   "source": [
    "model.eval()"
   ]
  },
  {
   "cell_type": "code",
   "execution_count": 70,
   "metadata": {
    "id": "g_B7UnASSR6h",
    "ExecuteTime": {
     "end_time": "2023-10-20T12:13:14.947424Z",
     "start_time": "2023-10-20T12:13:14.941189Z"
    }
   },
   "outputs": [],
   "source": [
    "img = Image.open(\"human.png\")"
   ]
  },
  {
   "cell_type": "code",
   "execution_count": 71,
   "metadata": {
    "id": "gVawp_JUbt0b",
    "ExecuteTime": {
     "end_time": "2023-10-20T12:13:15.833788Z",
     "start_time": "2023-10-20T12:13:15.825420Z"
    }
   },
   "outputs": [],
   "source": [
    "transform = transforms.ToTensor()\n",
    "ig = transform(img)"
   ]
  },
  {
   "cell_type": "code",
   "execution_count": 73,
   "metadata": {
    "id": "y7fXtS5JcAGq",
    "ExecuteTime": {
     "end_time": "2023-10-20T12:13:54.973257Z",
     "start_time": "2023-10-20T12:13:54.920023Z"
    }
   },
   "outputs": [
    {
     "ename": "RuntimeError",
     "evalue": "The following operation failed in the TorchScript interpreter.\nTraceback of TorchScript, serialized code (most recent call last):\n  File \"code/__torch__/torchvision/models/detection/mask_rcnn.py\", line 59, in forward\n      _15 = torch.append(original_image_sizes, (val[0], val[1]))\n    transform = self.transform\n    _16 = (transform).forward(images, targets0, )\n           ~~~~~~~~~~~~~~~~~~ <--- HERE\n    images0, targets3, = _16\n    if torch.__isnot__(targets3, None):\n  File \"code/__torch__/torchvision/models/detection/transform.py\", line 49, in forward\n      else:\n        pass\n      image0 = (self).normalize(image, )\n                ~~~~~~~~~~~~~~~ <--- HERE\n      _9 = (self).resize(image0, target_index, )\n      image1, target_index0, = _9\n  File \"code/__torch__/torchvision/models/detection/transform.py\", line 103, in normalize\n    std = torch.as_tensor(image_std, dtype=dtype, device=device)\n    _25 = torch.unsqueeze(torch.slice(mean), 1)\n    _26 = torch.sub(image, torch.unsqueeze(_25, 2))\n          ~~~~~~~~~ <--- HERE\n    _27 = torch.unsqueeze(torch.slice(std), 1)\n    _28 = torch.div(_26, torch.unsqueeze(_27, 2))\n\nTraceback of TorchScript, original code (most recent call last):\n  File \"/Users/rouna/anaconda3/envs/thirdlama/lib/python3.9/site-packages/torchvision/models/detection/generalized_rcnn.py\", line 83, in forward\n            original_image_sizes.append((val[0], val[1]))\n    \n        images, targets = self.transform(images, targets)\n                          ~~~~~~~~~~~~~~ <--- HERE\n    \n        # Check for degenerate boxes\n  File \"/Users/rouna/anaconda3/envs/thirdlama/lib/python3.9/site-packages/torchvision/models/detection/transform.py\", line 139, in forward\n            if image.dim() != 3:\n                raise ValueError(f\"images is expected to be a list of 3d tensors of shape [C, H, W], got {image.shape}\")\n            image = self.normalize(image)\n                    ~~~~~~~~~~~~~~ <--- HERE\n            image, target_index = self.resize(image, target_index)\n            images[i] = image\n  File \"/Users/rouna/anaconda3/envs/thirdlama/lib/python3.9/site-packages/torchvision/models/detection/transform.py\", line 167, in normalize\n        mean = torch.as_tensor(self.image_mean, dtype=dtype, device=device)\n        std = torch.as_tensor(self.image_std, dtype=dtype, device=device)\n        return (image - mean[:, None, None]) / std[:, None, None]\n                ~~~~~~~~~~~~~~~~~~~~~~~~~~~ <--- HERE\nRuntimeError: The size of tensor a (4) must match the size of tensor b (3) at non-singleton dimension 0\n",
     "output_type": "error",
     "traceback": [
      "\u001B[0;31m---------------------------------------------------------------------------\u001B[0m",
      "\u001B[0;31mRuntimeError\u001B[0m                              Traceback (most recent call last)",
      "Cell \u001B[0;32mIn[73], line 2\u001B[0m\n\u001B[1;32m      1\u001B[0m \u001B[38;5;28;01mwith\u001B[39;00m torch\u001B[38;5;241m.\u001B[39mno_grad():\n\u001B[0;32m----> 2\u001B[0m   pred \u001B[38;5;241m=\u001B[39m \u001B[43mmodel\u001B[49m\u001B[43m(\u001B[49m\u001B[43m[\u001B[49m\u001B[43mig\u001B[49m\u001B[43m]\u001B[49m\u001B[43m)\u001B[49m[\u001B[38;5;241m0\u001B[39m]\n",
      "File \u001B[0;32m~/anaconda3/envs/thirdlama/lib/python3.9/site-packages/torch/nn/modules/module.py:1518\u001B[0m, in \u001B[0;36mModule._wrapped_call_impl\u001B[0;34m(self, *args, **kwargs)\u001B[0m\n\u001B[1;32m   1516\u001B[0m     \u001B[38;5;28;01mreturn\u001B[39;00m \u001B[38;5;28mself\u001B[39m\u001B[38;5;241m.\u001B[39m_compiled_call_impl(\u001B[38;5;241m*\u001B[39margs, \u001B[38;5;241m*\u001B[39m\u001B[38;5;241m*\u001B[39mkwargs)  \u001B[38;5;66;03m# type: ignore[misc]\u001B[39;00m\n\u001B[1;32m   1517\u001B[0m \u001B[38;5;28;01melse\u001B[39;00m:\n\u001B[0;32m-> 1518\u001B[0m     \u001B[38;5;28;01mreturn\u001B[39;00m \u001B[38;5;28;43mself\u001B[39;49m\u001B[38;5;241;43m.\u001B[39;49m\u001B[43m_call_impl\u001B[49m\u001B[43m(\u001B[49m\u001B[38;5;241;43m*\u001B[39;49m\u001B[43margs\u001B[49m\u001B[43m,\u001B[49m\u001B[43m \u001B[49m\u001B[38;5;241;43m*\u001B[39;49m\u001B[38;5;241;43m*\u001B[39;49m\u001B[43mkwargs\u001B[49m\u001B[43m)\u001B[49m\n",
      "File \u001B[0;32m~/anaconda3/envs/thirdlama/lib/python3.9/site-packages/torch/nn/modules/module.py:1527\u001B[0m, in \u001B[0;36mModule._call_impl\u001B[0;34m(self, *args, **kwargs)\u001B[0m\n\u001B[1;32m   1522\u001B[0m \u001B[38;5;66;03m# If we don't have any hooks, we want to skip the rest of the logic in\u001B[39;00m\n\u001B[1;32m   1523\u001B[0m \u001B[38;5;66;03m# this function, and just call forward.\u001B[39;00m\n\u001B[1;32m   1524\u001B[0m \u001B[38;5;28;01mif\u001B[39;00m \u001B[38;5;129;01mnot\u001B[39;00m (\u001B[38;5;28mself\u001B[39m\u001B[38;5;241m.\u001B[39m_backward_hooks \u001B[38;5;129;01mor\u001B[39;00m \u001B[38;5;28mself\u001B[39m\u001B[38;5;241m.\u001B[39m_backward_pre_hooks \u001B[38;5;129;01mor\u001B[39;00m \u001B[38;5;28mself\u001B[39m\u001B[38;5;241m.\u001B[39m_forward_hooks \u001B[38;5;129;01mor\u001B[39;00m \u001B[38;5;28mself\u001B[39m\u001B[38;5;241m.\u001B[39m_forward_pre_hooks\n\u001B[1;32m   1525\u001B[0m         \u001B[38;5;129;01mor\u001B[39;00m _global_backward_pre_hooks \u001B[38;5;129;01mor\u001B[39;00m _global_backward_hooks\n\u001B[1;32m   1526\u001B[0m         \u001B[38;5;129;01mor\u001B[39;00m _global_forward_hooks \u001B[38;5;129;01mor\u001B[39;00m _global_forward_pre_hooks):\n\u001B[0;32m-> 1527\u001B[0m     \u001B[38;5;28;01mreturn\u001B[39;00m \u001B[43mforward_call\u001B[49m\u001B[43m(\u001B[49m\u001B[38;5;241;43m*\u001B[39;49m\u001B[43margs\u001B[49m\u001B[43m,\u001B[49m\u001B[43m \u001B[49m\u001B[38;5;241;43m*\u001B[39;49m\u001B[38;5;241;43m*\u001B[39;49m\u001B[43mkwargs\u001B[49m\u001B[43m)\u001B[49m\n\u001B[1;32m   1529\u001B[0m \u001B[38;5;28;01mtry\u001B[39;00m:\n\u001B[1;32m   1530\u001B[0m     result \u001B[38;5;241m=\u001B[39m \u001B[38;5;28;01mNone\u001B[39;00m\n",
      "File \u001B[0;32m~/anaconda3/envs/thirdlama/lib/python3.9/site-packages/torch/_dynamo/eval_frame.py:328\u001B[0m, in \u001B[0;36m_TorchDynamoContext.__call__.<locals>._fn\u001B[0;34m(*args, **kwargs)\u001B[0m\n\u001B[1;32m    326\u001B[0m dynamic_ctx\u001B[38;5;241m.\u001B[39m\u001B[38;5;21m__enter__\u001B[39m()\n\u001B[1;32m    327\u001B[0m \u001B[38;5;28;01mtry\u001B[39;00m:\n\u001B[0;32m--> 328\u001B[0m     \u001B[38;5;28;01mreturn\u001B[39;00m \u001B[43mfn\u001B[49m\u001B[43m(\u001B[49m\u001B[38;5;241;43m*\u001B[39;49m\u001B[43margs\u001B[49m\u001B[43m,\u001B[49m\u001B[43m \u001B[49m\u001B[38;5;241;43m*\u001B[39;49m\u001B[38;5;241;43m*\u001B[39;49m\u001B[43mkwargs\u001B[49m\u001B[43m)\u001B[49m\n\u001B[1;32m    329\u001B[0m \u001B[38;5;28;01mfinally\u001B[39;00m:\n\u001B[1;32m    330\u001B[0m     set_eval_frame(prior)\n",
      "File \u001B[0;32m~/anaconda3/envs/thirdlama/lib/python3.9/site-packages/torch/nn/modules/module.py:1518\u001B[0m, in \u001B[0;36mModule._wrapped_call_impl\u001B[0;34m(self, *args, **kwargs)\u001B[0m\n\u001B[1;32m   1516\u001B[0m     \u001B[38;5;28;01mreturn\u001B[39;00m \u001B[38;5;28mself\u001B[39m\u001B[38;5;241m.\u001B[39m_compiled_call_impl(\u001B[38;5;241m*\u001B[39margs, \u001B[38;5;241m*\u001B[39m\u001B[38;5;241m*\u001B[39mkwargs)  \u001B[38;5;66;03m# type: ignore[misc]\u001B[39;00m\n\u001B[1;32m   1517\u001B[0m \u001B[38;5;28;01melse\u001B[39;00m:\n\u001B[0;32m-> 1518\u001B[0m     \u001B[38;5;28;01mreturn\u001B[39;00m \u001B[38;5;28;43mself\u001B[39;49m\u001B[38;5;241;43m.\u001B[39;49m\u001B[43m_call_impl\u001B[49m\u001B[43m(\u001B[49m\u001B[38;5;241;43m*\u001B[39;49m\u001B[43margs\u001B[49m\u001B[43m,\u001B[49m\u001B[43m \u001B[49m\u001B[38;5;241;43m*\u001B[39;49m\u001B[38;5;241;43m*\u001B[39;49m\u001B[43mkwargs\u001B[49m\u001B[43m)\u001B[49m\n",
      "File \u001B[0;32m~/anaconda3/envs/thirdlama/lib/python3.9/site-packages/torch/nn/modules/module.py:1527\u001B[0m, in \u001B[0;36mModule._call_impl\u001B[0;34m(self, *args, **kwargs)\u001B[0m\n\u001B[1;32m   1522\u001B[0m \u001B[38;5;66;03m# If we don't have any hooks, we want to skip the rest of the logic in\u001B[39;00m\n\u001B[1;32m   1523\u001B[0m \u001B[38;5;66;03m# this function, and just call forward.\u001B[39;00m\n\u001B[1;32m   1524\u001B[0m \u001B[38;5;28;01mif\u001B[39;00m \u001B[38;5;129;01mnot\u001B[39;00m (\u001B[38;5;28mself\u001B[39m\u001B[38;5;241m.\u001B[39m_backward_hooks \u001B[38;5;129;01mor\u001B[39;00m \u001B[38;5;28mself\u001B[39m\u001B[38;5;241m.\u001B[39m_backward_pre_hooks \u001B[38;5;129;01mor\u001B[39;00m \u001B[38;5;28mself\u001B[39m\u001B[38;5;241m.\u001B[39m_forward_hooks \u001B[38;5;129;01mor\u001B[39;00m \u001B[38;5;28mself\u001B[39m\u001B[38;5;241m.\u001B[39m_forward_pre_hooks\n\u001B[1;32m   1525\u001B[0m         \u001B[38;5;129;01mor\u001B[39;00m _global_backward_pre_hooks \u001B[38;5;129;01mor\u001B[39;00m _global_backward_hooks\n\u001B[1;32m   1526\u001B[0m         \u001B[38;5;129;01mor\u001B[39;00m _global_forward_hooks \u001B[38;5;129;01mor\u001B[39;00m _global_forward_pre_hooks):\n\u001B[0;32m-> 1527\u001B[0m     \u001B[38;5;28;01mreturn\u001B[39;00m \u001B[43mforward_call\u001B[49m\u001B[43m(\u001B[49m\u001B[38;5;241;43m*\u001B[39;49m\u001B[43margs\u001B[49m\u001B[43m,\u001B[49m\u001B[43m \u001B[49m\u001B[38;5;241;43m*\u001B[39;49m\u001B[38;5;241;43m*\u001B[39;49m\u001B[43mkwargs\u001B[49m\u001B[43m)\u001B[49m\n\u001B[1;32m   1529\u001B[0m \u001B[38;5;28;01mtry\u001B[39;00m:\n\u001B[1;32m   1530\u001B[0m     result \u001B[38;5;241m=\u001B[39m \u001B[38;5;28;01mNone\u001B[39;00m\n",
      "\u001B[0;31mRuntimeError\u001B[0m: The following operation failed in the TorchScript interpreter.\nTraceback of TorchScript, serialized code (most recent call last):\n  File \"code/__torch__/torchvision/models/detection/mask_rcnn.py\", line 59, in forward\n      _15 = torch.append(original_image_sizes, (val[0], val[1]))\n    transform = self.transform\n    _16 = (transform).forward(images, targets0, )\n           ~~~~~~~~~~~~~~~~~~ <--- HERE\n    images0, targets3, = _16\n    if torch.__isnot__(targets3, None):\n  File \"code/__torch__/torchvision/models/detection/transform.py\", line 49, in forward\n      else:\n        pass\n      image0 = (self).normalize(image, )\n                ~~~~~~~~~~~~~~~ <--- HERE\n      _9 = (self).resize(image0, target_index, )\n      image1, target_index0, = _9\n  File \"code/__torch__/torchvision/models/detection/transform.py\", line 103, in normalize\n    std = torch.as_tensor(image_std, dtype=dtype, device=device)\n    _25 = torch.unsqueeze(torch.slice(mean), 1)\n    _26 = torch.sub(image, torch.unsqueeze(_25, 2))\n          ~~~~~~~~~ <--- HERE\n    _27 = torch.unsqueeze(torch.slice(std), 1)\n    _28 = torch.div(_26, torch.unsqueeze(_27, 2))\n\nTraceback of TorchScript, original code (most recent call last):\n  File \"/Users/rouna/anaconda3/envs/thirdlama/lib/python3.9/site-packages/torchvision/models/detection/generalized_rcnn.py\", line 83, in forward\n            original_image_sizes.append((val[0], val[1]))\n    \n        images, targets = self.transform(images, targets)\n                          ~~~~~~~~~~~~~~ <--- HERE\n    \n        # Check for degenerate boxes\n  File \"/Users/rouna/anaconda3/envs/thirdlama/lib/python3.9/site-packages/torchvision/models/detection/transform.py\", line 139, in forward\n            if image.dim() != 3:\n                raise ValueError(f\"images is expected to be a list of 3d tensors of shape [C, H, W], got {image.shape}\")\n            image = self.normalize(image)\n                    ~~~~~~~~~~~~~~ <--- HERE\n            image, target_index = self.resize(image, target_index)\n            images[i] = image\n  File \"/Users/rouna/anaconda3/envs/thirdlama/lib/python3.9/site-packages/torchvision/models/detection/transform.py\", line 167, in normalize\n        mean = torch.as_tensor(self.image_mean, dtype=dtype, device=device)\n        std = torch.as_tensor(self.image_std, dtype=dtype, device=device)\n        return (image - mean[:, None, None]) / std[:, None, None]\n                ~~~~~~~~~~~~~~~~~~~~~~~~~~~ <--- HERE\nRuntimeError: The size of tensor a (4) must match the size of tensor b (3) at non-singleton dimension 0\n"
     ]
    }
   ],
   "source": [
    "with torch.no_grad():\n",
    "  pred = model([ig])"
   ]
  },
  {
   "cell_type": "code",
   "execution_count": null,
   "outputs": [],
   "source": [
    "pred"
   ],
   "metadata": {
    "collapsed": false,
    "ExecuteTime": {
     "start_time": "2023-10-20T12:10:08.513656Z"
    }
   }
  },
  {
   "cell_type": "code",
   "execution_count": null,
   "metadata": {
    "id": "kNYhDwHZcTQf",
    "ExecuteTime": {
     "start_time": "2023-10-20T12:10:08.515074Z"
    }
   },
   "outputs": [],
   "source": [
    "masks = pred[1][0]['masks']"
   ]
  },
  {
   "cell_type": "code",
   "execution_count": null,
   "metadata": {
    "id": "0xBSw6DTcz5P",
    "ExecuteTime": {
     "end_time": "2023-10-20T12:10:08.516538Z",
     "start_time": "2023-10-20T12:10:08.516345Z"
    }
   },
   "outputs": [],
   "source": [
    "dog_mask = masks[0, 0] > 0.01\n",
    "dog_mask = dog_mask.numpy().astype('uint8') * 255\n",
    "cv2_imshow(dog_mask)"
   ]
  },
  {
   "cell_type": "code",
   "execution_count": null,
   "metadata": {
    "id": "8MBWaNjJdK7F",
    "ExecuteTime": {
     "start_time": "2023-10-20T12:10:08.517618Z"
    }
   },
   "outputs": [],
   "source": [
    "remove(path='LaMa_test_images/image_mask000.png')"
   ]
  },
  {
   "cell_type": "code",
   "execution_count": null,
   "outputs": [],
   "source": [
    "cv2.imwrite(filename= getcwd() + '/LaMa_test_images/image_mask000.png', img=dog_mask)"
   ],
   "metadata": {
    "collapsed": false,
    "ExecuteTime": {
     "end_time": "2023-10-20T12:10:08.520477Z",
     "start_time": "2023-10-20T12:10:08.518676Z"
    }
   }
  },
  {
   "cell_type": "code",
   "execution_count": null,
   "metadata": {
    "id": "LmVeISpZe_JD",
    "ExecuteTime": {
     "start_time": "2023-10-20T12:10:08.520284Z"
    }
   },
   "outputs": [],
   "source": [
    "img = cv2.imread(filename='human.png')\n",
    "remove(path='LaMa_test_images/image.png')"
   ]
  },
  {
   "cell_type": "code",
   "execution_count": null,
   "outputs": [],
   "source": [
    "cv2.imwrite(filename=getcwd() + '/LaMa_test_images/image.png', img=img)"
   ],
   "metadata": {
    "collapsed": false,
    "ExecuteTime": {
     "start_time": "2023-10-20T12:10:08.521866Z"
    }
   }
  },
  {
   "cell_type": "code",
   "execution_count": null,
   "metadata": {
    "colab": {
     "base_uri": "https://localhost:8080/",
     "height": 917
    },
    "id": "EuwwywbsmL0t",
    "outputId": "70edce33-c6c1-4fac-9d6d-2d069ed43c38",
    "tags": [],
    "ExecuteTime": {
     "start_time": "2023-10-20T12:10:08.523102Z"
    }
   },
   "outputs": [],
   "source": [
    "try:\n",
    "  remove(path='output/image_mask000.png')\n",
    "except:\n",
    "  pass\n",
    "!python3 bin/predict.py model.path=$(pwd)/LaMa_models/lama-places/lama-fourier indir=$(pwd)/LaMa_test_images/ outdir=$(pwd)/output/"
   ]
  },
  {
   "cell_type": "code",
   "execution_count": null,
   "outputs": [],
   "source": [
    "inpainted_image = cv2.imread('output/image_mask000.png')\n",
    "cv2_imshow(inpainted_image)"
   ],
   "metadata": {
    "collapsed": false,
    "ExecuteTime": {
     "start_time": "2023-10-20T12:10:08.524374Z"
    }
   }
  },
  {
   "cell_type": "code",
   "execution_count": null,
   "outputs": [],
   "source": [],
   "metadata": {
    "collapsed": false,
    "ExecuteTime": {
     "start_time": "2023-10-20T12:10:08.525451Z"
    }
   }
  }
 ],
 "metadata": {
  "accelerator": "GPU",
  "colab": {
   "gpuType": "T4",
   "provenance": []
  },
  "kernelspec": {
   "display_name": "Python 3 (ipykernel)",
   "language": "python",
   "name": "python3"
  },
  "language_info": {
   "codemirror_mode": {
    "name": "ipython",
    "version": 3
   },
   "file_extension": ".py",
   "mimetype": "text/x-python",
   "name": "python",
   "nbconvert_exporter": "python",
   "pygments_lexer": "ipython3",
   "version": "3.9.7"
  }
 },
 "nbformat": 4,
 "nbformat_minor": 4
}
