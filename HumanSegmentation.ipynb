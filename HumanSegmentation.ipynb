{
 "cells": [
  {
   "cell_type": "code",
   "execution_count": 1,
   "metadata": {
    "id": "S9xCaGa8RHLK",
    "ExecuteTime": {
     "end_time": "2024-09-16T00:57:35.044488Z",
     "start_time": "2024-09-16T00:57:09.045559Z"
    }
   },
   "outputs": [
    {
     "name": "stdout",
     "output_type": "stream",
     "text": [
      "Found existing installation: torch 2.1.2\r\n",
      "Uninstalling torch-2.1.2:\r\n",
      "  Successfully uninstalled torch-2.1.2\r\n",
      "Found existing installation: torchvision 0.16.0\r\n",
      "Uninstalling torchvision-0.16.0:\r\n",
      "  Successfully uninstalled torchvision-0.16.0\r\n",
      "Collecting torch==2.1.0\r\n",
      "  Downloading torch-2.1.0-cp39-none-macosx_11_0_arm64.whl.metadata (24 kB)\r\n",
      "Requirement already satisfied: filelock in /Users/rouna/anaconda3/envs/thirdlama/lib/python3.9/site-packages (from torch==2.1.0) (3.12.4)\r\n",
      "Requirement already satisfied: typing-extensions in /Users/rouna/anaconda3/envs/thirdlama/lib/python3.9/site-packages (from torch==2.1.0) (4.7.1)\r\n",
      "Requirement already satisfied: sympy in /Users/rouna/anaconda3/envs/thirdlama/lib/python3.9/site-packages (from torch==2.1.0) (1.12)\r\n",
      "Requirement already satisfied: networkx in /Users/rouna/anaconda3/envs/thirdlama/lib/python3.9/site-packages (from torch==2.1.0) (3.1)\r\n",
      "Requirement already satisfied: jinja2 in /Users/rouna/anaconda3/envs/thirdlama/lib/python3.9/site-packages (from torch==2.1.0) (3.1.2)\r\n",
      "Requirement already satisfied: fsspec in /Users/rouna/anaconda3/envs/thirdlama/lib/python3.9/site-packages (from torch==2.1.0) (2023.10.0)\r\n",
      "Requirement already satisfied: MarkupSafe>=2.0 in /Users/rouna/anaconda3/envs/thirdlama/lib/python3.9/site-packages (from jinja2->torch==2.1.0) (2.1.1)\r\n",
      "Requirement already satisfied: mpmath>=0.19 in /Users/rouna/anaconda3/envs/thirdlama/lib/python3.9/site-packages (from sympy->torch==2.1.0) (1.3.0)\r\n",
      "Downloading torch-2.1.0-cp39-none-macosx_11_0_arm64.whl (59.5 MB)\r\n",
      "\u001B[2K   \u001B[90m━━━━━━━━━━━━━━━━━━━━━━━━━━━━━━━━━━━━━━━━\u001B[0m \u001B[32m59.5/59.5 MB\u001B[0m \u001B[31m15.7 MB/s\u001B[0m eta \u001B[36m0:00:00\u001B[0m00:01\u001B[0m00:01\u001B[0m\r\n",
      "\u001B[?25hInstalling collected packages: torch\r\n",
      "  Attempting uninstall: torch\r\n",
      "    Found existing installation: torch 2.1.2\r\n",
      "    Uninstalling torch-2.1.2:\r\n",
      "      Successfully uninstalled torch-2.1.2\r\n",
      "\u001B[31mERROR: pip's dependency resolver does not currently take into account all the packages that are installed. This behaviour is the source of the following dependency conflicts.\r\n",
      "pytorch-lightning 2.1.0rc0 requires torchmetrics>=0.7.0, but you have torchmetrics 0.2.0 which is incompatible.\u001B[0m\u001B[31m\r\n",
      "\u001B[0mSuccessfully installed torch-2.1.0\r\n",
      "Collecting torchvision==0.16.0\r\n",
      "  Downloading torchvision-0.16.0-cp39-cp39-macosx_11_0_arm64.whl.metadata (6.6 kB)\r\n",
      "Requirement already satisfied: numpy in /Users/rouna/anaconda3/envs/thirdlama/lib/python3.9/site-packages (from torchvision==0.16.0) (1.24.3)\r\n",
      "Requirement already satisfied: requests in /Users/rouna/anaconda3/envs/thirdlama/lib/python3.9/site-packages (from torchvision==0.16.0) (2.31.0)\r\n",
      "Requirement already satisfied: torch==2.1.0 in /Users/rouna/anaconda3/envs/thirdlama/lib/python3.9/site-packages (from torchvision==0.16.0) (2.1.0)\r\n",
      "Requirement already satisfied: pillow!=8.3.*,>=5.3.0 in /Users/rouna/anaconda3/envs/thirdlama/lib/python3.9/site-packages (from torchvision==0.16.0) (10.0.1)\r\n",
      "Requirement already satisfied: filelock in /Users/rouna/anaconda3/envs/thirdlama/lib/python3.9/site-packages (from torch==2.1.0->torchvision==0.16.0) (3.12.4)\r\n",
      "Requirement already satisfied: typing-extensions in /Users/rouna/anaconda3/envs/thirdlama/lib/python3.9/site-packages (from torch==2.1.0->torchvision==0.16.0) (4.7.1)\r\n",
      "Requirement already satisfied: sympy in /Users/rouna/anaconda3/envs/thirdlama/lib/python3.9/site-packages (from torch==2.1.0->torchvision==0.16.0) (1.12)\r\n",
      "Requirement already satisfied: networkx in /Users/rouna/anaconda3/envs/thirdlama/lib/python3.9/site-packages (from torch==2.1.0->torchvision==0.16.0) (3.1)\r\n",
      "Requirement already satisfied: jinja2 in /Users/rouna/anaconda3/envs/thirdlama/lib/python3.9/site-packages (from torch==2.1.0->torchvision==0.16.0) (3.1.2)\r\n",
      "Requirement already satisfied: fsspec in /Users/rouna/anaconda3/envs/thirdlama/lib/python3.9/site-packages (from torch==2.1.0->torchvision==0.16.0) (2023.10.0)\r\n",
      "Requirement already satisfied: charset-normalizer<4,>=2 in /Users/rouna/anaconda3/envs/thirdlama/lib/python3.9/site-packages (from requests->torchvision==0.16.0) (2.0.4)\r\n",
      "Requirement already satisfied: idna<4,>=2.5 in /Users/rouna/anaconda3/envs/thirdlama/lib/python3.9/site-packages (from requests->torchvision==0.16.0) (3.4)\r\n",
      "Requirement already satisfied: urllib3<3,>=1.21.1 in /Users/rouna/anaconda3/envs/thirdlama/lib/python3.9/site-packages (from requests->torchvision==0.16.0) (1.26.18)\r\n",
      "Requirement already satisfied: certifi>=2017.4.17 in /Users/rouna/anaconda3/envs/thirdlama/lib/python3.9/site-packages (from requests->torchvision==0.16.0) (2024.8.30)\r\n",
      "Requirement already satisfied: MarkupSafe>=2.0 in /Users/rouna/anaconda3/envs/thirdlama/lib/python3.9/site-packages (from jinja2->torch==2.1.0->torchvision==0.16.0) (2.1.1)\r\n",
      "Requirement already satisfied: mpmath>=0.19 in /Users/rouna/anaconda3/envs/thirdlama/lib/python3.9/site-packages (from sympy->torch==2.1.0->torchvision==0.16.0) (1.3.0)\r\n",
      "Downloading torchvision-0.16.0-cp39-cp39-macosx_11_0_arm64.whl (1.6 MB)\r\n",
      "\u001B[2K   \u001B[90m━━━━━━━━━━━━━━━━━━━━━━━━━━━━━━━━━━━━━━━━\u001B[0m \u001B[32m1.6/1.6 MB\u001B[0m \u001B[31m10.6 MB/s\u001B[0m eta \u001B[36m0:00:00\u001B[0m00:01\u001B[0m00:01\u001B[0m\r\n",
      "\u001B[?25hInstalling collected packages: torchvision\r\n",
      "  Attempting uninstall: torchvision\r\n",
      "    Found existing installation: torchvision 0.16.2\r\n",
      "    Uninstalling torchvision-0.16.2:\r\n",
      "      Successfully uninstalled torchvision-0.16.2\r\n",
      "Successfully installed torchvision-0.16.0\r\n"
     ]
    },
    {
     "name": "stderr",
     "output_type": "stream",
     "text": [
      "/Users/rouna/anaconda3/envs/thirdlama/lib/python3.9/site-packages/google/colab/data_table.py:30: UserWarning: IPython.utils.traitlets has moved to a top-level traitlets package.\n",
      "  from IPython.utils import traitlets as _traitlets\n"
     ]
    }
   ],
   "source": [
    "!pip uninstall torch -y\n",
    "!pip uninstall torchvision -y\n",
    "!pip install torch==2.1.0\n",
    "!pip install torchvision==0.16.0\n",
    "import torch\n",
    "import torchvision\n",
    "from torchvision import transforms\n",
    "\n",
    "from google.colab.patches import cv2_imshow\n",
    "from google.colab.patches import cv2\n",
    "\n",
    "from PIL import Image\n",
    "from os import getcwd\n",
    "from os import remove"
   ]
  },
  {
   "cell_type": "code",
   "execution_count": 2,
   "metadata": {
    "colab": {
     "base_uri": "https://localhost:8080/"
    },
    "id": "QsKuSYaDRftI",
    "outputId": "49b51aff-b67e-403b-98c8-04b14941eecc",
    "ExecuteTime": {
     "end_time": "2024-09-16T00:57:35.573656Z",
     "start_time": "2024-09-16T00:57:35.276349Z"
    }
   },
   "outputs": [
    {
     "data": {
      "text/plain": "OptimizedModule(\n  (_orig_mod): RecursiveScriptModule(\n    original_name=MaskRCNN\n    (transform): RecursiveScriptModule(original_name=GeneralizedRCNNTransform)\n    (backbone): RecursiveScriptModule(\n      original_name=BackboneWithFPN\n      (body): RecursiveScriptModule(\n        original_name=IntermediateLayerGetter\n        (conv1): RecursiveScriptModule(original_name=Conv2d)\n        (bn1): RecursiveScriptModule(original_name=BatchNorm2d)\n        (relu): RecursiveScriptModule(original_name=ReLU)\n        (maxpool): RecursiveScriptModule(original_name=MaxPool2d)\n        (layer1): RecursiveScriptModule(\n          original_name=Sequential\n          (0): RecursiveScriptModule(\n            original_name=Bottleneck\n            (conv1): RecursiveScriptModule(original_name=Conv2d)\n            (bn1): RecursiveScriptModule(original_name=BatchNorm2d)\n            (conv2): RecursiveScriptModule(original_name=Conv2d)\n            (bn2): RecursiveScriptModule(original_name=BatchNorm2d)\n            (conv3): RecursiveScriptModule(original_name=Conv2d)\n            (bn3): RecursiveScriptModule(original_name=BatchNorm2d)\n            (relu): RecursiveScriptModule(original_name=ReLU)\n            (downsample): RecursiveScriptModule(\n              original_name=Sequential\n              (0): RecursiveScriptModule(original_name=Conv2d)\n              (1): RecursiveScriptModule(original_name=BatchNorm2d)\n            )\n          )\n          (1): RecursiveScriptModule(\n            original_name=Bottleneck\n            (conv1): RecursiveScriptModule(original_name=Conv2d)\n            (bn1): RecursiveScriptModule(original_name=BatchNorm2d)\n            (conv2): RecursiveScriptModule(original_name=Conv2d)\n            (bn2): RecursiveScriptModule(original_name=BatchNorm2d)\n            (conv3): RecursiveScriptModule(original_name=Conv2d)\n            (bn3): RecursiveScriptModule(original_name=BatchNorm2d)\n            (relu): RecursiveScriptModule(original_name=ReLU)\n          )\n          (2): RecursiveScriptModule(\n            original_name=Bottleneck\n            (conv1): RecursiveScriptModule(original_name=Conv2d)\n            (bn1): RecursiveScriptModule(original_name=BatchNorm2d)\n            (conv2): RecursiveScriptModule(original_name=Conv2d)\n            (bn2): RecursiveScriptModule(original_name=BatchNorm2d)\n            (conv3): RecursiveScriptModule(original_name=Conv2d)\n            (bn3): RecursiveScriptModule(original_name=BatchNorm2d)\n            (relu): RecursiveScriptModule(original_name=ReLU)\n          )\n        )\n        (layer2): RecursiveScriptModule(\n          original_name=Sequential\n          (0): RecursiveScriptModule(\n            original_name=Bottleneck\n            (conv1): RecursiveScriptModule(original_name=Conv2d)\n            (bn1): RecursiveScriptModule(original_name=BatchNorm2d)\n            (conv2): RecursiveScriptModule(original_name=Conv2d)\n            (bn2): RecursiveScriptModule(original_name=BatchNorm2d)\n            (conv3): RecursiveScriptModule(original_name=Conv2d)\n            (bn3): RecursiveScriptModule(original_name=BatchNorm2d)\n            (relu): RecursiveScriptModule(original_name=ReLU)\n            (downsample): RecursiveScriptModule(\n              original_name=Sequential\n              (0): RecursiveScriptModule(original_name=Conv2d)\n              (1): RecursiveScriptModule(original_name=BatchNorm2d)\n            )\n          )\n          (1): RecursiveScriptModule(\n            original_name=Bottleneck\n            (conv1): RecursiveScriptModule(original_name=Conv2d)\n            (bn1): RecursiveScriptModule(original_name=BatchNorm2d)\n            (conv2): RecursiveScriptModule(original_name=Conv2d)\n            (bn2): RecursiveScriptModule(original_name=BatchNorm2d)\n            (conv3): RecursiveScriptModule(original_name=Conv2d)\n            (bn3): RecursiveScriptModule(original_name=BatchNorm2d)\n            (relu): RecursiveScriptModule(original_name=ReLU)\n          )\n          (2): RecursiveScriptModule(\n            original_name=Bottleneck\n            (conv1): RecursiveScriptModule(original_name=Conv2d)\n            (bn1): RecursiveScriptModule(original_name=BatchNorm2d)\n            (conv2): RecursiveScriptModule(original_name=Conv2d)\n            (bn2): RecursiveScriptModule(original_name=BatchNorm2d)\n            (conv3): RecursiveScriptModule(original_name=Conv2d)\n            (bn3): RecursiveScriptModule(original_name=BatchNorm2d)\n            (relu): RecursiveScriptModule(original_name=ReLU)\n          )\n          (3): RecursiveScriptModule(\n            original_name=Bottleneck\n            (conv1): RecursiveScriptModule(original_name=Conv2d)\n            (bn1): RecursiveScriptModule(original_name=BatchNorm2d)\n            (conv2): RecursiveScriptModule(original_name=Conv2d)\n            (bn2): RecursiveScriptModule(original_name=BatchNorm2d)\n            (conv3): RecursiveScriptModule(original_name=Conv2d)\n            (bn3): RecursiveScriptModule(original_name=BatchNorm2d)\n            (relu): RecursiveScriptModule(original_name=ReLU)\n          )\n        )\n        (layer3): RecursiveScriptModule(\n          original_name=Sequential\n          (0): RecursiveScriptModule(\n            original_name=Bottleneck\n            (conv1): RecursiveScriptModule(original_name=Conv2d)\n            (bn1): RecursiveScriptModule(original_name=BatchNorm2d)\n            (conv2): RecursiveScriptModule(original_name=Conv2d)\n            (bn2): RecursiveScriptModule(original_name=BatchNorm2d)\n            (conv3): RecursiveScriptModule(original_name=Conv2d)\n            (bn3): RecursiveScriptModule(original_name=BatchNorm2d)\n            (relu): RecursiveScriptModule(original_name=ReLU)\n            (downsample): RecursiveScriptModule(\n              original_name=Sequential\n              (0): RecursiveScriptModule(original_name=Conv2d)\n              (1): RecursiveScriptModule(original_name=BatchNorm2d)\n            )\n          )\n          (1): RecursiveScriptModule(\n            original_name=Bottleneck\n            (conv1): RecursiveScriptModule(original_name=Conv2d)\n            (bn1): RecursiveScriptModule(original_name=BatchNorm2d)\n            (conv2): RecursiveScriptModule(original_name=Conv2d)\n            (bn2): RecursiveScriptModule(original_name=BatchNorm2d)\n            (conv3): RecursiveScriptModule(original_name=Conv2d)\n            (bn3): RecursiveScriptModule(original_name=BatchNorm2d)\n            (relu): RecursiveScriptModule(original_name=ReLU)\n          )\n          (2): RecursiveScriptModule(\n            original_name=Bottleneck\n            (conv1): RecursiveScriptModule(original_name=Conv2d)\n            (bn1): RecursiveScriptModule(original_name=BatchNorm2d)\n            (conv2): RecursiveScriptModule(original_name=Conv2d)\n            (bn2): RecursiveScriptModule(original_name=BatchNorm2d)\n            (conv3): RecursiveScriptModule(original_name=Conv2d)\n            (bn3): RecursiveScriptModule(original_name=BatchNorm2d)\n            (relu): RecursiveScriptModule(original_name=ReLU)\n          )\n          (3): RecursiveScriptModule(\n            original_name=Bottleneck\n            (conv1): RecursiveScriptModule(original_name=Conv2d)\n            (bn1): RecursiveScriptModule(original_name=BatchNorm2d)\n            (conv2): RecursiveScriptModule(original_name=Conv2d)\n            (bn2): RecursiveScriptModule(original_name=BatchNorm2d)\n            (conv3): RecursiveScriptModule(original_name=Conv2d)\n            (bn3): RecursiveScriptModule(original_name=BatchNorm2d)\n            (relu): RecursiveScriptModule(original_name=ReLU)\n          )\n          (4): RecursiveScriptModule(\n            original_name=Bottleneck\n            (conv1): RecursiveScriptModule(original_name=Conv2d)\n            (bn1): RecursiveScriptModule(original_name=BatchNorm2d)\n            (conv2): RecursiveScriptModule(original_name=Conv2d)\n            (bn2): RecursiveScriptModule(original_name=BatchNorm2d)\n            (conv3): RecursiveScriptModule(original_name=Conv2d)\n            (bn3): RecursiveScriptModule(original_name=BatchNorm2d)\n            (relu): RecursiveScriptModule(original_name=ReLU)\n          )\n          (5): RecursiveScriptModule(\n            original_name=Bottleneck\n            (conv1): RecursiveScriptModule(original_name=Conv2d)\n            (bn1): RecursiveScriptModule(original_name=BatchNorm2d)\n            (conv2): RecursiveScriptModule(original_name=Conv2d)\n            (bn2): RecursiveScriptModule(original_name=BatchNorm2d)\n            (conv3): RecursiveScriptModule(original_name=Conv2d)\n            (bn3): RecursiveScriptModule(original_name=BatchNorm2d)\n            (relu): RecursiveScriptModule(original_name=ReLU)\n          )\n        )\n        (layer4): RecursiveScriptModule(\n          original_name=Sequential\n          (0): RecursiveScriptModule(\n            original_name=Bottleneck\n            (conv1): RecursiveScriptModule(original_name=Conv2d)\n            (bn1): RecursiveScriptModule(original_name=BatchNorm2d)\n            (conv2): RecursiveScriptModule(original_name=Conv2d)\n            (bn2): RecursiveScriptModule(original_name=BatchNorm2d)\n            (conv3): RecursiveScriptModule(original_name=Conv2d)\n            (bn3): RecursiveScriptModule(original_name=BatchNorm2d)\n            (relu): RecursiveScriptModule(original_name=ReLU)\n            (downsample): RecursiveScriptModule(\n              original_name=Sequential\n              (0): RecursiveScriptModule(original_name=Conv2d)\n              (1): RecursiveScriptModule(original_name=BatchNorm2d)\n            )\n          )\n          (1): RecursiveScriptModule(\n            original_name=Bottleneck\n            (conv1): RecursiveScriptModule(original_name=Conv2d)\n            (bn1): RecursiveScriptModule(original_name=BatchNorm2d)\n            (conv2): RecursiveScriptModule(original_name=Conv2d)\n            (bn2): RecursiveScriptModule(original_name=BatchNorm2d)\n            (conv3): RecursiveScriptModule(original_name=Conv2d)\n            (bn3): RecursiveScriptModule(original_name=BatchNorm2d)\n            (relu): RecursiveScriptModule(original_name=ReLU)\n          )\n          (2): RecursiveScriptModule(\n            original_name=Bottleneck\n            (conv1): RecursiveScriptModule(original_name=Conv2d)\n            (bn1): RecursiveScriptModule(original_name=BatchNorm2d)\n            (conv2): RecursiveScriptModule(original_name=Conv2d)\n            (bn2): RecursiveScriptModule(original_name=BatchNorm2d)\n            (conv3): RecursiveScriptModule(original_name=Conv2d)\n            (bn3): RecursiveScriptModule(original_name=BatchNorm2d)\n            (relu): RecursiveScriptModule(original_name=ReLU)\n          )\n        )\n      )\n      (fpn): RecursiveScriptModule(\n        original_name=FeaturePyramidNetwork\n        (inner_blocks): RecursiveScriptModule(\n          original_name=ModuleList\n          (0): RecursiveScriptModule(\n            original_name=Conv2dNormActivation\n            (0): RecursiveScriptModule(original_name=Conv2d)\n            (1): RecursiveScriptModule(original_name=BatchNorm2d)\n          )\n          (1): RecursiveScriptModule(\n            original_name=Conv2dNormActivation\n            (0): RecursiveScriptModule(original_name=Conv2d)\n            (1): RecursiveScriptModule(original_name=BatchNorm2d)\n          )\n          (2): RecursiveScriptModule(\n            original_name=Conv2dNormActivation\n            (0): RecursiveScriptModule(original_name=Conv2d)\n            (1): RecursiveScriptModule(original_name=BatchNorm2d)\n          )\n          (3): RecursiveScriptModule(\n            original_name=Conv2dNormActivation\n            (0): RecursiveScriptModule(original_name=Conv2d)\n            (1): RecursiveScriptModule(original_name=BatchNorm2d)\n          )\n        )\n        (layer_blocks): RecursiveScriptModule(\n          original_name=ModuleList\n          (0): RecursiveScriptModule(\n            original_name=Conv2dNormActivation\n            (0): RecursiveScriptModule(original_name=Conv2d)\n            (1): RecursiveScriptModule(original_name=BatchNorm2d)\n          )\n          (1): RecursiveScriptModule(\n            original_name=Conv2dNormActivation\n            (0): RecursiveScriptModule(original_name=Conv2d)\n            (1): RecursiveScriptModule(original_name=BatchNorm2d)\n          )\n          (2): RecursiveScriptModule(\n            original_name=Conv2dNormActivation\n            (0): RecursiveScriptModule(original_name=Conv2d)\n            (1): RecursiveScriptModule(original_name=BatchNorm2d)\n          )\n          (3): RecursiveScriptModule(\n            original_name=Conv2dNormActivation\n            (0): RecursiveScriptModule(original_name=Conv2d)\n            (1): RecursiveScriptModule(original_name=BatchNorm2d)\n          )\n        )\n        (extra_blocks): RecursiveScriptModule(original_name=LastLevelMaxPool)\n      )\n    )\n    (rpn): RecursiveScriptModule(\n      original_name=RegionProposalNetwork\n      (anchor_generator): RecursiveScriptModule(original_name=AnchorGenerator)\n      (head): RecursiveScriptModule(\n        original_name=RPNHead\n        (conv): RecursiveScriptModule(\n          original_name=Sequential\n          (0): RecursiveScriptModule(\n            original_name=Conv2dNormActivation\n            (0): RecursiveScriptModule(original_name=Conv2d)\n            (1): RecursiveScriptModule(original_name=ReLU)\n          )\n          (1): RecursiveScriptModule(\n            original_name=Conv2dNormActivation\n            (0): RecursiveScriptModule(original_name=Conv2d)\n            (1): RecursiveScriptModule(original_name=ReLU)\n          )\n        )\n        (cls_logits): RecursiveScriptModule(original_name=Conv2d)\n        (bbox_pred): RecursiveScriptModule(original_name=Conv2d)\n      )\n    )\n    (roi_heads): RecursiveScriptModule(\n      original_name=RoIHeads\n      (box_roi_pool): RecursiveScriptModule(original_name=MultiScaleRoIAlign)\n      (box_head): RecursiveScriptModule(\n        original_name=FastRCNNConvFCHead\n        (0): RecursiveScriptModule(\n          original_name=Conv2dNormActivation\n          (0): RecursiveScriptModule(original_name=Conv2d)\n          (1): RecursiveScriptModule(original_name=BatchNorm2d)\n          (2): RecursiveScriptModule(original_name=ReLU)\n        )\n        (1): RecursiveScriptModule(\n          original_name=Conv2dNormActivation\n          (0): RecursiveScriptModule(original_name=Conv2d)\n          (1): RecursiveScriptModule(original_name=BatchNorm2d)\n          (2): RecursiveScriptModule(original_name=ReLU)\n        )\n        (2): RecursiveScriptModule(\n          original_name=Conv2dNormActivation\n          (0): RecursiveScriptModule(original_name=Conv2d)\n          (1): RecursiveScriptModule(original_name=BatchNorm2d)\n          (2): RecursiveScriptModule(original_name=ReLU)\n        )\n        (3): RecursiveScriptModule(\n          original_name=Conv2dNormActivation\n          (0): RecursiveScriptModule(original_name=Conv2d)\n          (1): RecursiveScriptModule(original_name=BatchNorm2d)\n          (2): RecursiveScriptModule(original_name=ReLU)\n        )\n        (4): RecursiveScriptModule(original_name=Flatten)\n        (5): RecursiveScriptModule(original_name=Linear)\n        (6): RecursiveScriptModule(original_name=ReLU)\n      )\n      (box_predictor): RecursiveScriptModule(\n        original_name=FastRCNNPredictor\n        (cls_score): RecursiveScriptModule(original_name=Linear)\n        (bbox_pred): RecursiveScriptModule(original_name=Linear)\n      )\n      (mask_roi_pool): RecursiveScriptModule(original_name=MultiScaleRoIAlign)\n      (mask_head): RecursiveScriptModule(\n        original_name=MaskRCNNHeads\n        (0): RecursiveScriptModule(\n          original_name=Conv2dNormActivation\n          (0): RecursiveScriptModule(original_name=Conv2d)\n          (1): RecursiveScriptModule(original_name=BatchNorm2d)\n          (2): RecursiveScriptModule(original_name=ReLU)\n        )\n        (1): RecursiveScriptModule(\n          original_name=Conv2dNormActivation\n          (0): RecursiveScriptModule(original_name=Conv2d)\n          (1): RecursiveScriptModule(original_name=BatchNorm2d)\n          (2): RecursiveScriptModule(original_name=ReLU)\n        )\n        (2): RecursiveScriptModule(\n          original_name=Conv2dNormActivation\n          (0): RecursiveScriptModule(original_name=Conv2d)\n          (1): RecursiveScriptModule(original_name=BatchNorm2d)\n          (2): RecursiveScriptModule(original_name=ReLU)\n        )\n        (3): RecursiveScriptModule(\n          original_name=Conv2dNormActivation\n          (0): RecursiveScriptModule(original_name=Conv2d)\n          (1): RecursiveScriptModule(original_name=BatchNorm2d)\n          (2): RecursiveScriptModule(original_name=ReLU)\n        )\n      )\n      (mask_predictor): RecursiveScriptModule(\n        original_name=MaskRCNNPredictor\n        (conv5_mask): RecursiveScriptModule(original_name=ConvTranspose2d)\n        (relu): RecursiveScriptModule(original_name=ReLU)\n        (mask_fcn_logits): RecursiveScriptModule(original_name=Conv2d)\n      )\n    )\n  )\n)"
     },
     "execution_count": 2,
     "metadata": {},
     "output_type": "execute_result"
    }
   ],
   "source": [
    "model = torch.jit.load('runs/run Oct-19-2023 23:34:07/checkpoint Oct-20-2023 00:37:55.pt')\n",
    "model = torch.compile(model)\n",
    "model"
   ]
  },
  {
   "cell_type": "code",
   "execution_count": 3,
   "metadata": {
    "collapsed": false,
    "ExecuteTime": {
     "end_time": "2024-09-16T00:58:34.276407Z",
     "start_time": "2024-09-16T00:58:34.259682Z"
    }
   },
   "outputs": [
    {
     "data": {
      "text/plain": "OptimizedModule(\n  (_orig_mod): RecursiveScriptModule(\n    original_name=MaskRCNN\n    (transform): RecursiveScriptModule(original_name=GeneralizedRCNNTransform)\n    (backbone): RecursiveScriptModule(\n      original_name=BackboneWithFPN\n      (body): RecursiveScriptModule(\n        original_name=IntermediateLayerGetter\n        (conv1): RecursiveScriptModule(original_name=Conv2d)\n        (bn1): RecursiveScriptModule(original_name=BatchNorm2d)\n        (relu): RecursiveScriptModule(original_name=ReLU)\n        (maxpool): RecursiveScriptModule(original_name=MaxPool2d)\n        (layer1): RecursiveScriptModule(\n          original_name=Sequential\n          (0): RecursiveScriptModule(\n            original_name=Bottleneck\n            (conv1): RecursiveScriptModule(original_name=Conv2d)\n            (bn1): RecursiveScriptModule(original_name=BatchNorm2d)\n            (conv2): RecursiveScriptModule(original_name=Conv2d)\n            (bn2): RecursiveScriptModule(original_name=BatchNorm2d)\n            (conv3): RecursiveScriptModule(original_name=Conv2d)\n            (bn3): RecursiveScriptModule(original_name=BatchNorm2d)\n            (relu): RecursiveScriptModule(original_name=ReLU)\n            (downsample): RecursiveScriptModule(\n              original_name=Sequential\n              (0): RecursiveScriptModule(original_name=Conv2d)\n              (1): RecursiveScriptModule(original_name=BatchNorm2d)\n            )\n          )\n          (1): RecursiveScriptModule(\n            original_name=Bottleneck\n            (conv1): RecursiveScriptModule(original_name=Conv2d)\n            (bn1): RecursiveScriptModule(original_name=BatchNorm2d)\n            (conv2): RecursiveScriptModule(original_name=Conv2d)\n            (bn2): RecursiveScriptModule(original_name=BatchNorm2d)\n            (conv3): RecursiveScriptModule(original_name=Conv2d)\n            (bn3): RecursiveScriptModule(original_name=BatchNorm2d)\n            (relu): RecursiveScriptModule(original_name=ReLU)\n          )\n          (2): RecursiveScriptModule(\n            original_name=Bottleneck\n            (conv1): RecursiveScriptModule(original_name=Conv2d)\n            (bn1): RecursiveScriptModule(original_name=BatchNorm2d)\n            (conv2): RecursiveScriptModule(original_name=Conv2d)\n            (bn2): RecursiveScriptModule(original_name=BatchNorm2d)\n            (conv3): RecursiveScriptModule(original_name=Conv2d)\n            (bn3): RecursiveScriptModule(original_name=BatchNorm2d)\n            (relu): RecursiveScriptModule(original_name=ReLU)\n          )\n        )\n        (layer2): RecursiveScriptModule(\n          original_name=Sequential\n          (0): RecursiveScriptModule(\n            original_name=Bottleneck\n            (conv1): RecursiveScriptModule(original_name=Conv2d)\n            (bn1): RecursiveScriptModule(original_name=BatchNorm2d)\n            (conv2): RecursiveScriptModule(original_name=Conv2d)\n            (bn2): RecursiveScriptModule(original_name=BatchNorm2d)\n            (conv3): RecursiveScriptModule(original_name=Conv2d)\n            (bn3): RecursiveScriptModule(original_name=BatchNorm2d)\n            (relu): RecursiveScriptModule(original_name=ReLU)\n            (downsample): RecursiveScriptModule(\n              original_name=Sequential\n              (0): RecursiveScriptModule(original_name=Conv2d)\n              (1): RecursiveScriptModule(original_name=BatchNorm2d)\n            )\n          )\n          (1): RecursiveScriptModule(\n            original_name=Bottleneck\n            (conv1): RecursiveScriptModule(original_name=Conv2d)\n            (bn1): RecursiveScriptModule(original_name=BatchNorm2d)\n            (conv2): RecursiveScriptModule(original_name=Conv2d)\n            (bn2): RecursiveScriptModule(original_name=BatchNorm2d)\n            (conv3): RecursiveScriptModule(original_name=Conv2d)\n            (bn3): RecursiveScriptModule(original_name=BatchNorm2d)\n            (relu): RecursiveScriptModule(original_name=ReLU)\n          )\n          (2): RecursiveScriptModule(\n            original_name=Bottleneck\n            (conv1): RecursiveScriptModule(original_name=Conv2d)\n            (bn1): RecursiveScriptModule(original_name=BatchNorm2d)\n            (conv2): RecursiveScriptModule(original_name=Conv2d)\n            (bn2): RecursiveScriptModule(original_name=BatchNorm2d)\n            (conv3): RecursiveScriptModule(original_name=Conv2d)\n            (bn3): RecursiveScriptModule(original_name=BatchNorm2d)\n            (relu): RecursiveScriptModule(original_name=ReLU)\n          )\n          (3): RecursiveScriptModule(\n            original_name=Bottleneck\n            (conv1): RecursiveScriptModule(original_name=Conv2d)\n            (bn1): RecursiveScriptModule(original_name=BatchNorm2d)\n            (conv2): RecursiveScriptModule(original_name=Conv2d)\n            (bn2): RecursiveScriptModule(original_name=BatchNorm2d)\n            (conv3): RecursiveScriptModule(original_name=Conv2d)\n            (bn3): RecursiveScriptModule(original_name=BatchNorm2d)\n            (relu): RecursiveScriptModule(original_name=ReLU)\n          )\n        )\n        (layer3): RecursiveScriptModule(\n          original_name=Sequential\n          (0): RecursiveScriptModule(\n            original_name=Bottleneck\n            (conv1): RecursiveScriptModule(original_name=Conv2d)\n            (bn1): RecursiveScriptModule(original_name=BatchNorm2d)\n            (conv2): RecursiveScriptModule(original_name=Conv2d)\n            (bn2): RecursiveScriptModule(original_name=BatchNorm2d)\n            (conv3): RecursiveScriptModule(original_name=Conv2d)\n            (bn3): RecursiveScriptModule(original_name=BatchNorm2d)\n            (relu): RecursiveScriptModule(original_name=ReLU)\n            (downsample): RecursiveScriptModule(\n              original_name=Sequential\n              (0): RecursiveScriptModule(original_name=Conv2d)\n              (1): RecursiveScriptModule(original_name=BatchNorm2d)\n            )\n          )\n          (1): RecursiveScriptModule(\n            original_name=Bottleneck\n            (conv1): RecursiveScriptModule(original_name=Conv2d)\n            (bn1): RecursiveScriptModule(original_name=BatchNorm2d)\n            (conv2): RecursiveScriptModule(original_name=Conv2d)\n            (bn2): RecursiveScriptModule(original_name=BatchNorm2d)\n            (conv3): RecursiveScriptModule(original_name=Conv2d)\n            (bn3): RecursiveScriptModule(original_name=BatchNorm2d)\n            (relu): RecursiveScriptModule(original_name=ReLU)\n          )\n          (2): RecursiveScriptModule(\n            original_name=Bottleneck\n            (conv1): RecursiveScriptModule(original_name=Conv2d)\n            (bn1): RecursiveScriptModule(original_name=BatchNorm2d)\n            (conv2): RecursiveScriptModule(original_name=Conv2d)\n            (bn2): RecursiveScriptModule(original_name=BatchNorm2d)\n            (conv3): RecursiveScriptModule(original_name=Conv2d)\n            (bn3): RecursiveScriptModule(original_name=BatchNorm2d)\n            (relu): RecursiveScriptModule(original_name=ReLU)\n          )\n          (3): RecursiveScriptModule(\n            original_name=Bottleneck\n            (conv1): RecursiveScriptModule(original_name=Conv2d)\n            (bn1): RecursiveScriptModule(original_name=BatchNorm2d)\n            (conv2): RecursiveScriptModule(original_name=Conv2d)\n            (bn2): RecursiveScriptModule(original_name=BatchNorm2d)\n            (conv3): RecursiveScriptModule(original_name=Conv2d)\n            (bn3): RecursiveScriptModule(original_name=BatchNorm2d)\n            (relu): RecursiveScriptModule(original_name=ReLU)\n          )\n          (4): RecursiveScriptModule(\n            original_name=Bottleneck\n            (conv1): RecursiveScriptModule(original_name=Conv2d)\n            (bn1): RecursiveScriptModule(original_name=BatchNorm2d)\n            (conv2): RecursiveScriptModule(original_name=Conv2d)\n            (bn2): RecursiveScriptModule(original_name=BatchNorm2d)\n            (conv3): RecursiveScriptModule(original_name=Conv2d)\n            (bn3): RecursiveScriptModule(original_name=BatchNorm2d)\n            (relu): RecursiveScriptModule(original_name=ReLU)\n          )\n          (5): RecursiveScriptModule(\n            original_name=Bottleneck\n            (conv1): RecursiveScriptModule(original_name=Conv2d)\n            (bn1): RecursiveScriptModule(original_name=BatchNorm2d)\n            (conv2): RecursiveScriptModule(original_name=Conv2d)\n            (bn2): RecursiveScriptModule(original_name=BatchNorm2d)\n            (conv3): RecursiveScriptModule(original_name=Conv2d)\n            (bn3): RecursiveScriptModule(original_name=BatchNorm2d)\n            (relu): RecursiveScriptModule(original_name=ReLU)\n          )\n        )\n        (layer4): RecursiveScriptModule(\n          original_name=Sequential\n          (0): RecursiveScriptModule(\n            original_name=Bottleneck\n            (conv1): RecursiveScriptModule(original_name=Conv2d)\n            (bn1): RecursiveScriptModule(original_name=BatchNorm2d)\n            (conv2): RecursiveScriptModule(original_name=Conv2d)\n            (bn2): RecursiveScriptModule(original_name=BatchNorm2d)\n            (conv3): RecursiveScriptModule(original_name=Conv2d)\n            (bn3): RecursiveScriptModule(original_name=BatchNorm2d)\n            (relu): RecursiveScriptModule(original_name=ReLU)\n            (downsample): RecursiveScriptModule(\n              original_name=Sequential\n              (0): RecursiveScriptModule(original_name=Conv2d)\n              (1): RecursiveScriptModule(original_name=BatchNorm2d)\n            )\n          )\n          (1): RecursiveScriptModule(\n            original_name=Bottleneck\n            (conv1): RecursiveScriptModule(original_name=Conv2d)\n            (bn1): RecursiveScriptModule(original_name=BatchNorm2d)\n            (conv2): RecursiveScriptModule(original_name=Conv2d)\n            (bn2): RecursiveScriptModule(original_name=BatchNorm2d)\n            (conv3): RecursiveScriptModule(original_name=Conv2d)\n            (bn3): RecursiveScriptModule(original_name=BatchNorm2d)\n            (relu): RecursiveScriptModule(original_name=ReLU)\n          )\n          (2): RecursiveScriptModule(\n            original_name=Bottleneck\n            (conv1): RecursiveScriptModule(original_name=Conv2d)\n            (bn1): RecursiveScriptModule(original_name=BatchNorm2d)\n            (conv2): RecursiveScriptModule(original_name=Conv2d)\n            (bn2): RecursiveScriptModule(original_name=BatchNorm2d)\n            (conv3): RecursiveScriptModule(original_name=Conv2d)\n            (bn3): RecursiveScriptModule(original_name=BatchNorm2d)\n            (relu): RecursiveScriptModule(original_name=ReLU)\n          )\n        )\n      )\n      (fpn): RecursiveScriptModule(\n        original_name=FeaturePyramidNetwork\n        (inner_blocks): RecursiveScriptModule(\n          original_name=ModuleList\n          (0): RecursiveScriptModule(\n            original_name=Conv2dNormActivation\n            (0): RecursiveScriptModule(original_name=Conv2d)\n            (1): RecursiveScriptModule(original_name=BatchNorm2d)\n          )\n          (1): RecursiveScriptModule(\n            original_name=Conv2dNormActivation\n            (0): RecursiveScriptModule(original_name=Conv2d)\n            (1): RecursiveScriptModule(original_name=BatchNorm2d)\n          )\n          (2): RecursiveScriptModule(\n            original_name=Conv2dNormActivation\n            (0): RecursiveScriptModule(original_name=Conv2d)\n            (1): RecursiveScriptModule(original_name=BatchNorm2d)\n          )\n          (3): RecursiveScriptModule(\n            original_name=Conv2dNormActivation\n            (0): RecursiveScriptModule(original_name=Conv2d)\n            (1): RecursiveScriptModule(original_name=BatchNorm2d)\n          )\n        )\n        (layer_blocks): RecursiveScriptModule(\n          original_name=ModuleList\n          (0): RecursiveScriptModule(\n            original_name=Conv2dNormActivation\n            (0): RecursiveScriptModule(original_name=Conv2d)\n            (1): RecursiveScriptModule(original_name=BatchNorm2d)\n          )\n          (1): RecursiveScriptModule(\n            original_name=Conv2dNormActivation\n            (0): RecursiveScriptModule(original_name=Conv2d)\n            (1): RecursiveScriptModule(original_name=BatchNorm2d)\n          )\n          (2): RecursiveScriptModule(\n            original_name=Conv2dNormActivation\n            (0): RecursiveScriptModule(original_name=Conv2d)\n            (1): RecursiveScriptModule(original_name=BatchNorm2d)\n          )\n          (3): RecursiveScriptModule(\n            original_name=Conv2dNormActivation\n            (0): RecursiveScriptModule(original_name=Conv2d)\n            (1): RecursiveScriptModule(original_name=BatchNorm2d)\n          )\n        )\n        (extra_blocks): RecursiveScriptModule(original_name=LastLevelMaxPool)\n      )\n    )\n    (rpn): RecursiveScriptModule(\n      original_name=RegionProposalNetwork\n      (anchor_generator): RecursiveScriptModule(original_name=AnchorGenerator)\n      (head): RecursiveScriptModule(\n        original_name=RPNHead\n        (conv): RecursiveScriptModule(\n          original_name=Sequential\n          (0): RecursiveScriptModule(\n            original_name=Conv2dNormActivation\n            (0): RecursiveScriptModule(original_name=Conv2d)\n            (1): RecursiveScriptModule(original_name=ReLU)\n          )\n          (1): RecursiveScriptModule(\n            original_name=Conv2dNormActivation\n            (0): RecursiveScriptModule(original_name=Conv2d)\n            (1): RecursiveScriptModule(original_name=ReLU)\n          )\n        )\n        (cls_logits): RecursiveScriptModule(original_name=Conv2d)\n        (bbox_pred): RecursiveScriptModule(original_name=Conv2d)\n      )\n    )\n    (roi_heads): RecursiveScriptModule(\n      original_name=RoIHeads\n      (box_roi_pool): RecursiveScriptModule(original_name=MultiScaleRoIAlign)\n      (box_head): RecursiveScriptModule(\n        original_name=FastRCNNConvFCHead\n        (0): RecursiveScriptModule(\n          original_name=Conv2dNormActivation\n          (0): RecursiveScriptModule(original_name=Conv2d)\n          (1): RecursiveScriptModule(original_name=BatchNorm2d)\n          (2): RecursiveScriptModule(original_name=ReLU)\n        )\n        (1): RecursiveScriptModule(\n          original_name=Conv2dNormActivation\n          (0): RecursiveScriptModule(original_name=Conv2d)\n          (1): RecursiveScriptModule(original_name=BatchNorm2d)\n          (2): RecursiveScriptModule(original_name=ReLU)\n        )\n        (2): RecursiveScriptModule(\n          original_name=Conv2dNormActivation\n          (0): RecursiveScriptModule(original_name=Conv2d)\n          (1): RecursiveScriptModule(original_name=BatchNorm2d)\n          (2): RecursiveScriptModule(original_name=ReLU)\n        )\n        (3): RecursiveScriptModule(\n          original_name=Conv2dNormActivation\n          (0): RecursiveScriptModule(original_name=Conv2d)\n          (1): RecursiveScriptModule(original_name=BatchNorm2d)\n          (2): RecursiveScriptModule(original_name=ReLU)\n        )\n        (4): RecursiveScriptModule(original_name=Flatten)\n        (5): RecursiveScriptModule(original_name=Linear)\n        (6): RecursiveScriptModule(original_name=ReLU)\n      )\n      (box_predictor): RecursiveScriptModule(\n        original_name=FastRCNNPredictor\n        (cls_score): RecursiveScriptModule(original_name=Linear)\n        (bbox_pred): RecursiveScriptModule(original_name=Linear)\n      )\n      (mask_roi_pool): RecursiveScriptModule(original_name=MultiScaleRoIAlign)\n      (mask_head): RecursiveScriptModule(\n        original_name=MaskRCNNHeads\n        (0): RecursiveScriptModule(\n          original_name=Conv2dNormActivation\n          (0): RecursiveScriptModule(original_name=Conv2d)\n          (1): RecursiveScriptModule(original_name=BatchNorm2d)\n          (2): RecursiveScriptModule(original_name=ReLU)\n        )\n        (1): RecursiveScriptModule(\n          original_name=Conv2dNormActivation\n          (0): RecursiveScriptModule(original_name=Conv2d)\n          (1): RecursiveScriptModule(original_name=BatchNorm2d)\n          (2): RecursiveScriptModule(original_name=ReLU)\n        )\n        (2): RecursiveScriptModule(\n          original_name=Conv2dNormActivation\n          (0): RecursiveScriptModule(original_name=Conv2d)\n          (1): RecursiveScriptModule(original_name=BatchNorm2d)\n          (2): RecursiveScriptModule(original_name=ReLU)\n        )\n        (3): RecursiveScriptModule(\n          original_name=Conv2dNormActivation\n          (0): RecursiveScriptModule(original_name=Conv2d)\n          (1): RecursiveScriptModule(original_name=BatchNorm2d)\n          (2): RecursiveScriptModule(original_name=ReLU)\n        )\n      )\n      (mask_predictor): RecursiveScriptModule(\n        original_name=MaskRCNNPredictor\n        (conv5_mask): RecursiveScriptModule(original_name=ConvTranspose2d)\n        (relu): RecursiveScriptModule(original_name=ReLU)\n        (mask_fcn_logits): RecursiveScriptModule(original_name=Conv2d)\n      )\n    )\n  )\n)"
     },
     "execution_count": 3,
     "metadata": {},
     "output_type": "execute_result"
    }
   ],
   "source": [
    "model.eval()"
   ]
  },
  {
   "cell_type": "code",
   "execution_count": 10,
   "metadata": {
    "id": "g_B7UnASSR6h",
    "ExecuteTime": {
     "end_time": "2024-09-16T01:01:16.065091Z",
     "start_time": "2024-09-16T01:01:16.049341Z"
    }
   },
   "outputs": [
    {
     "data": {
      "text/plain": "<PIL.Image.Image image mode=RGB size=509x339>",
      "image/png": "[encoded data removed]",
      "image/jpeg": "[encoded data removed]"
     },
     "execution_count": 10,
     "metadata": {},
     "output_type": "execute_result"
    }
   ],
   "source": [
    "img = Image.open(\"human.png\")\n",
    "img = img.convert(\"RGB\")\n",
    "img"
   ]
  },
  {
   "cell_type": "code",
   "execution_count": 11,
   "metadata": {
    "id": "gVawp_JUbt0b",
    "ExecuteTime": {
     "end_time": "2024-09-16T01:01:23.326415Z",
     "start_time": "2024-09-16T01:01:23.323118Z"
    }
   },
   "outputs": [],
   "source": [
    "transform = transforms.ToTensor()\n",
    "ig = transform(img)"
   ]
  },
  {
   "cell_type": "code",
   "execution_count": 12,
   "metadata": {
    "id": "y7fXtS5JcAGq",
    "ExecuteTime": {
     "end_time": "2024-09-16T01:01:26.140325Z",
     "start_time": "2024-09-16T01:01:23.994318Z"
    }
   },
   "outputs": [
    {
     "name": "stderr",
     "output_type": "stream",
     "text": [
      "code/__torch__/torchvision/models/detection/mask_rcnn.py:103: UserWarning: RCNN always returns a (Losses, Detections) tuple in scripting\n"
     ]
    }
   ],
   "source": [
    "with torch.no_grad():\n",
    "  pred = model([ig])"
   ]
  },
  {
   "cell_type": "code",
   "execution_count": 13,
   "outputs": [
    {
     "data": {
      "text/plain": "({},\n [{'boxes': tensor([[ 99.9134,  16.6763, 204.6284, 327.4772]]),\n   'labels': tensor([1]),\n   'scores': tensor([0.8335]),\n   'masks': tensor([[[[0., 0., 0.,  ..., 0., 0., 0.],\n             [0., 0., 0.,  ..., 0., 0., 0.],\n             [0., 0., 0.,  ..., 0., 0., 0.],\n             ...,\n             [0., 0., 0.,  ..., 0., 0., 0.],\n             [0., 0., 0.,  ..., 0., 0., 0.],\n             [0., 0., 0.,  ..., 0., 0., 0.]]]])}])"
     },
     "execution_count": 13,
     "metadata": {},
     "output_type": "execute_result"
    }
   ],
   "source": [
    "pred"
   ],
   "metadata": {
    "collapsed": false,
    "ExecuteTime": {
     "end_time": "2024-09-16T01:01:35.682139Z",
     "start_time": "2024-09-16T01:01:35.674406Z"
    }
   }
  },
  {
   "cell_type": "code",
   "execution_count": 14,
   "metadata": {
    "id": "kNYhDwHZcTQf",
    "ExecuteTime": {
     "end_time": "2024-09-16T01:01:38.599348Z",
     "start_time": "2024-09-16T01:01:38.595140Z"
    }
   },
   "outputs": [],
   "source": [
    "masks = pred[1][0]['masks']"
   ]
  },
  {
   "cell_type": "code",
   "execution_count": 15,
   "metadata": {
    "id": "0xBSw6DTcz5P",
    "ExecuteTime": {
     "end_time": "2024-09-16T01:01:40.109462Z",
     "start_time": "2024-09-16T01:01:40.102858Z"
    }
   },
   "outputs": [
    {
     "data": {
      "text/plain": "<PIL.Image.Image image mode=L size=509x339>",
      "image/png": "[encoded data removed]",
      "image/jpeg": "[encoded data removed]"
     },
     "metadata": {},
     "output_type": "display_data"
    }
   ],
   "source": [
    "dog_mask = masks[0, 0] > 0.01\n",
    "dog_mask = dog_mask.numpy().astype('uint8') * 255\n",
    "cv2_imshow(dog_mask)"
   ]
  },
  {
   "cell_type": "code",
   "execution_count": 16,
   "metadata": {
    "id": "8MBWaNjJdK7F",
    "ExecuteTime": {
     "end_time": "2024-09-16T01:01:44.006259Z",
     "start_time": "2024-09-16T01:01:43.981550Z"
    }
   },
   "outputs": [
    {
     "ename": "FileNotFoundError",
     "evalue": "[Errno 2] No such file or directory: 'LaMa_test_images/image_mask000.png'",
     "output_type": "error",
     "traceback": [
      "\u001B[0;31m---------------------------------------------------------------------------\u001B[0m",
      "\u001B[0;31mFileNotFoundError\u001B[0m                         Traceback (most recent call last)",
      "Cell \u001B[0;32mIn[16], line 1\u001B[0m\n\u001B[0;32m----> 1\u001B[0m \u001B[43mremove\u001B[49m\u001B[43m(\u001B[49m\u001B[43mpath\u001B[49m\u001B[38;5;241;43m=\u001B[39;49m\u001B[38;5;124;43m'\u001B[39;49m\u001B[38;5;124;43mLaMa_test_images/image_mask000.png\u001B[39;49m\u001B[38;5;124;43m'\u001B[39;49m\u001B[43m)\u001B[49m\n",
      "\u001B[0;31mFileNotFoundError\u001B[0m: [Errno 2] No such file or directory: 'LaMa_test_images/image_mask000.png'"
     ]
    }
   ],
   "source": [
    "remove(path='LaMa_test_images/image_mask000.png')"
   ]
  },
  {
   "cell_type": "code",
   "execution_count": 17,
   "outputs": [
    {
     "data": {
      "text/plain": "True"
     },
     "execution_count": 17,
     "metadata": {},
     "output_type": "execute_result"
    }
   ],
   "source": [
    "cv2.imwrite(filename= getcwd() + '/LaMa_test_images/image_mask000.png', img=dog_mask)"
   ],
   "metadata": {
    "collapsed": false,
    "ExecuteTime": {
     "end_time": "2024-09-16T01:01:51.500739Z",
     "start_time": "2024-09-16T01:01:51.493904Z"
    }
   }
  },
  {
   "cell_type": "code",
   "execution_count": 38,
   "metadata": {
    "id": "LmVeISpZe_JD",
    "ExecuteTime": {
     "end_time": "2024-09-16T03:46:41.046171Z",
     "start_time": "2024-09-16T03:46:40.997949Z"
    }
   },
   "outputs": [
    {
     "ename": "FileNotFoundError",
     "evalue": "[Errno 2] No such file or directory: 'LaMa_test_images/image.png'",
     "output_type": "error",
     "traceback": [
      "\u001B[0;31m---------------------------------------------------------------------------\u001B[0m",
      "\u001B[0;31mFileNotFoundError\u001B[0m                         Traceback (most recent call last)",
      "Cell \u001B[0;32mIn[38], line 2\u001B[0m\n\u001B[1;32m      1\u001B[0m img \u001B[38;5;241m=\u001B[39m cv2\u001B[38;5;241m.\u001B[39mimread(filename\u001B[38;5;241m=\u001B[39m\u001B[38;5;124m'\u001B[39m\u001B[38;5;124mhuman.png\u001B[39m\u001B[38;5;124m'\u001B[39m)\n\u001B[0;32m----> 2\u001B[0m \u001B[43mremove\u001B[49m\u001B[43m(\u001B[49m\u001B[43mpath\u001B[49m\u001B[38;5;241;43m=\u001B[39;49m\u001B[38;5;124;43m'\u001B[39;49m\u001B[38;5;124;43mLaMa_test_images/image.png\u001B[39;49m\u001B[38;5;124;43m'\u001B[39;49m\u001B[43m)\u001B[49m\n",
      "\u001B[0;31mFileNotFoundError\u001B[0m: [Errno 2] No such file or directory: 'LaMa_test_images/image.png'"
     ]
    }
   ],
   "source": [
    "img = cv2.imread(filename='human.png')\n",
    "remove(path='LaMa_test_images/image.png')"
   ]
  },
  {
   "cell_type": "code",
   "execution_count": 39,
   "outputs": [
    {
     "data": {
      "text/plain": "True"
     },
     "execution_count": 39,
     "metadata": {},
     "output_type": "execute_result"
    }
   ],
   "source": [
    "cv2.imwrite(filename=getcwd() + '/LaMa_test_images/image.png', img=img)"
   ],
   "metadata": {
    "collapsed": false,
    "ExecuteTime": {
     "end_time": "2024-09-16T03:46:43.839385Z",
     "start_time": "2024-09-16T03:46:43.826747Z"
    }
   }
  },
  {
   "cell_type": "code",
   "execution_count": 40,
   "metadata": {
    "colab": {
     "base_uri": "https://localhost:8080/",
     "height": 917
    },
    "id": "EuwwywbsmL0t",
    "outputId": "70edce33-c6c1-4fac-9d6d-2d069ed43c38",
    "tags": [],
    "ExecuteTime": {
     "end_time": "2024-09-16T03:46:51.978658Z",
     "start_time": "2024-09-16T03:46:45.440493Z"
    }
   },
   "outputs": [
    {
     "name": "stdout",
     "output_type": "stream",
     "text": [
      "/Users/rouna/anaconda3/envs/thirdlama/lib/python3.9/site-packages/lightning_fabric/__init__.py:39: DeprecationWarning: Deprecated call to `pkg_resources.declare_namespace('lightning_fabric')`.\r\n",
      "Implementing implicit namespace packages (as specified in PEP 420) is preferred to `pkg_resources.declare_namespace`. See https://setuptools.pypa.io/en/latest/references/keywords.html#keyword-namespace-packages\r\n",
      "  __import__(\"pkg_resources\").declare_namespace(__name__)\r\n",
      "/Users/rouna/anaconda3/envs/thirdlama/lib/python3.9/site-packages/pytorch_lightning/__init__.py:36: DeprecationWarning: Deprecated call to `pkg_resources.declare_namespace('pytorch_lightning')`.\r\n",
      "Implementing implicit namespace packages (as specified in PEP 420) is preferred to `pkg_resources.declare_namespace`. See https://setuptools.pypa.io/en/latest/references/keywords.html#keyword-namespace-packages\r\n",
      "  __import__(\"pkg_resources\").declare_namespace(__name__)\r\n",
      "[2024-09-15 22:46:49,076][saicinpainting.utils][WARNING] - Setting signal 1 handler <function print_traceback_handler at 0x16d8ccd30>\r\n",
      "[2024-09-15 22:46:49,088][root][INFO] - Make training model default\r\n",
      "[2024-09-15 22:46:49,088][saicinpainting.training.trainers.base][INFO] - BaseInpaintingTrainingModule init called\r\n",
      "[2024-09-15 22:46:49,088][root][INFO] - Make generator ffc_resnet\r\n",
      "[2024-09-15 22:46:49,188][saicinpainting.training.trainers.base][INFO] - Generator\r\n",
      "FFCResNetGenerator(\r\n",
      "  (model): Sequential(\r\n",
      "    (0): ReflectionPad2d((3, 3, 3, 3))\r\n",
      "    (1): FFC_BN_ACT(\r\n",
      "      (ffc): FFC(\r\n",
      "        (convl2l): Conv2d(4, 64, kernel_size=(7, 7), stride=(1, 1), bias=False, padding_mode=reflect)\r\n",
      "        (convl2g): Identity()\r\n",
      "        (convg2l): Identity()\r\n",
      "        (convg2g): Identity()\r\n",
      "        (gate): Identity()\r\n",
      "      )\r\n",
      "      (bn_l): BatchNorm2d(64, eps=1e-05, momentum=0.1, affine=True, track_running_stats=True)\r\n",
      "      (bn_g): Identity()\r\n",
      "      (act_l): ReLU(inplace=True)\r\n",
      "      (act_g): Identity()\r\n",
      "    )\r\n",
      "    (2): FFC_BN_ACT(\r\n",
      "      (ffc): FFC(\r\n",
      "        (convl2l): Conv2d(64, 128, kernel_size=(3, 3), stride=(2, 2), padding=(1, 1), bias=False, padding_mode=reflect)\r\n",
      "        (convl2g): Identity()\r\n",
      "        (convg2l): Identity()\r\n",
      "        (convg2g): Identity()\r\n",
      "        (gate): Identity()\r\n",
      "      )\r\n",
      "      (bn_l): BatchNorm2d(128, eps=1e-05, momentum=0.1, affine=True, track_running_stats=True)\r\n",
      "      (bn_g): Identity()\r\n",
      "      (act_l): ReLU(inplace=True)\r\n",
      "      (act_g): Identity()\r\n",
      "    )\r\n",
      "    (3): FFC_BN_ACT(\r\n",
      "      (ffc): FFC(\r\n",
      "        (convl2l): Conv2d(128, 256, kernel_size=(3, 3), stride=(2, 2), padding=(1, 1), bias=False, padding_mode=reflect)\r\n",
      "        (convl2g): Identity()\r\n",
      "        (convg2l): Identity()\r\n",
      "        (convg2g): Identity()\r\n",
      "        (gate): Identity()\r\n",
      "      )\r\n",
      "      (bn_l): BatchNorm2d(256, eps=1e-05, momentum=0.1, affine=True, track_running_stats=True)\r\n",
      "      (bn_g): Identity()\r\n",
      "      (act_l): ReLU(inplace=True)\r\n",
      "      (act_g): Identity()\r\n",
      "    )\r\n",
      "    (4): FFC_BN_ACT(\r\n",
      "      (ffc): FFC(\r\n",
      "        (convl2l): Conv2d(256, 128, kernel_size=(3, 3), stride=(2, 2), padding=(1, 1), bias=False, padding_mode=reflect)\r\n",
      "        (convl2g): Conv2d(256, 384, kernel_size=(3, 3), stride=(2, 2), padding=(1, 1), bias=False, padding_mode=reflect)\r\n",
      "        (convg2l): Identity()\r\n",
      "        (convg2g): Identity()\r\n",
      "        (gate): Identity()\r\n",
      "      )\r\n",
      "      (bn_l): BatchNorm2d(128, eps=1e-05, momentum=0.1, affine=True, track_running_stats=True)\r\n",
      "      (bn_g): BatchNorm2d(384, eps=1e-05, momentum=0.1, affine=True, track_running_stats=True)\r\n",
      "      (act_l): ReLU(inplace=True)\r\n",
      "      (act_g): ReLU(inplace=True)\r\n",
      "    )\r\n",
      "    (5): FFCResnetBlock(\r\n",
      "      (conv1): FFC_BN_ACT(\r\n",
      "        (ffc): FFC(\r\n",
      "          (convl2l): Conv2d(128, 128, kernel_size=(3, 3), stride=(1, 1), padding=(1, 1), bias=False, padding_mode=reflect)\r\n",
      "          (convl2g): Conv2d(128, 384, kernel_size=(3, 3), stride=(1, 1), padding=(1, 1), bias=False, padding_mode=reflect)\r\n",
      "          (convg2l): Conv2d(384, 128, kernel_size=(3, 3), stride=(1, 1), padding=(1, 1), bias=False, padding_mode=reflect)\r\n",
      "          (convg2g): SpectralTransform(\r\n",
      "            (downsample): Identity()\r\n",
      "            (conv1): Sequential(\r\n",
      "              (0): Conv2d(384, 192, kernel_size=(1, 1), stride=(1, 1), bias=False)\r\n",
      "              (1): BatchNorm2d(192, eps=1e-05, momentum=0.1, affine=True, track_running_stats=True)\r\n",
      "              (2): ReLU(inplace=True)\r\n",
      "            )\r\n",
      "            (fu): FourierUnit(\r\n",
      "              (conv_layer): Conv2d(384, 384, kernel_size=(1, 1), stride=(1, 1), bias=False)\r\n",
      "              (bn): BatchNorm2d(384, eps=1e-05, momentum=0.1, affine=True, track_running_stats=True)\r\n",
      "              (relu): ReLU(inplace=True)\r\n",
      "            )\r\n",
      "            (conv2): Conv2d(192, 384, kernel_size=(1, 1), stride=(1, 1), bias=False)\r\n",
      "          )\r\n",
      "          (gate): Identity()\r\n",
      "        )\r\n",
      "        (bn_l): BatchNorm2d(128, eps=1e-05, momentum=0.1, affine=True, track_running_stats=True)\r\n",
      "        (bn_g): BatchNorm2d(384, eps=1e-05, momentum=0.1, affine=True, track_running_stats=True)\r\n",
      "        (act_l): ReLU(inplace=True)\r\n",
      "        (act_g): ReLU(inplace=True)\r\n",
      "      )\r\n",
      "      (conv2): FFC_BN_ACT(\r\n",
      "        (ffc): FFC(\r\n",
      "          (convl2l): Conv2d(128, 128, kernel_size=(3, 3), stride=(1, 1), padding=(1, 1), bias=False, padding_mode=reflect)\r\n",
      "          (convl2g): Conv2d(128, 384, kernel_size=(3, 3), stride=(1, 1), padding=(1, 1), bias=False, padding_mode=reflect)\r\n",
      "          (convg2l): Conv2d(384, 128, kernel_size=(3, 3), stride=(1, 1), padding=(1, 1), bias=False, padding_mode=reflect)\r\n",
      "          (convg2g): SpectralTransform(\r\n",
      "            (downsample): Identity()\r\n",
      "            (conv1): Sequential(\r\n",
      "              (0): Conv2d(384, 192, kernel_size=(1, 1), stride=(1, 1), bias=False)\r\n",
      "              (1): BatchNorm2d(192, eps=1e-05, momentum=0.1, affine=True, track_running_stats=True)\r\n",
      "              (2): ReLU(inplace=True)\r\n",
      "            )\r\n",
      "            (fu): FourierUnit(\r\n",
      "              (conv_layer): Conv2d(384, 384, kernel_size=(1, 1), stride=(1, 1), bias=False)\r\n",
      "              (bn): BatchNorm2d(384, eps=1e-05, momentum=0.1, affine=True, track_running_stats=True)\r\n",
      "              (relu): ReLU(inplace=True)\r\n",
      "            )\r\n",
      "            (conv2): Conv2d(192, 384, kernel_size=(1, 1), stride=(1, 1), bias=False)\r\n",
      "          )\r\n",
      "          (gate): Identity()\r\n",
      "        )\r\n",
      "        (bn_l): BatchNorm2d(128, eps=1e-05, momentum=0.1, affine=True, track_running_stats=True)\r\n",
      "        (bn_g): BatchNorm2d(384, eps=1e-05, momentum=0.1, affine=True, track_running_stats=True)\r\n",
      "        (act_l): ReLU(inplace=True)\r\n",
      "        (act_g): ReLU(inplace=True)\r\n",
      "      )\r\n",
      "    )\r\n",
      "    (6): FFCResnetBlock(\r\n",
      "      (conv1): FFC_BN_ACT(\r\n",
      "        (ffc): FFC(\r\n",
      "          (convl2l): Conv2d(128, 128, kernel_size=(3, 3), stride=(1, 1), padding=(1, 1), bias=False, padding_mode=reflect)\r\n",
      "          (convl2g): Conv2d(128, 384, kernel_size=(3, 3), stride=(1, 1), padding=(1, 1), bias=False, padding_mode=reflect)\r\n",
      "          (convg2l): Conv2d(384, 128, kernel_size=(3, 3), stride=(1, 1), padding=(1, 1), bias=False, padding_mode=reflect)\r\n",
      "          (convg2g): SpectralTransform(\r\n",
      "            (downsample): Identity()\r\n",
      "            (conv1): Sequential(\r\n",
      "              (0): Conv2d(384, 192, kernel_size=(1, 1), stride=(1, 1), bias=False)\r\n",
      "              (1): BatchNorm2d(192, eps=1e-05, momentum=0.1, affine=True, track_running_stats=True)\r\n",
      "              (2): ReLU(inplace=True)\r\n",
      "            )\r\n",
      "            (fu): FourierUnit(\r\n",
      "              (conv_layer): Conv2d(384, 384, kernel_size=(1, 1), stride=(1, 1), bias=False)\r\n",
      "              (bn): BatchNorm2d(384, eps=1e-05, momentum=0.1, affine=True, track_running_stats=True)\r\n",
      "              (relu): ReLU(inplace=True)\r\n",
      "            )\r\n",
      "            (conv2): Conv2d(192, 384, kernel_size=(1, 1), stride=(1, 1), bias=False)\r\n",
      "          )\r\n",
      "          (gate): Identity()\r\n",
      "        )\r\n",
      "        (bn_l): BatchNorm2d(128, eps=1e-05, momentum=0.1, affine=True, track_running_stats=True)\r\n",
      "        (bn_g): BatchNorm2d(384, eps=1e-05, momentum=0.1, affine=True, track_running_stats=True)\r\n",
      "        (act_l): ReLU(inplace=True)\r\n",
      "        (act_g): ReLU(inplace=True)\r\n",
      "      )\r\n",
      "      (conv2): FFC_BN_ACT(\r\n",
      "        (ffc): FFC(\r\n",
      "          (convl2l): Conv2d(128, 128, kernel_size=(3, 3), stride=(1, 1), padding=(1, 1), bias=False, padding_mode=reflect)\r\n",
      "          (convl2g): Conv2d(128, 384, kernel_size=(3, 3), stride=(1, 1), padding=(1, 1), bias=False, padding_mode=reflect)\r\n",
      "          (convg2l): Conv2d(384, 128, kernel_size=(3, 3), stride=(1, 1), padding=(1, 1), bias=False, padding_mode=reflect)\r\n",
      "          (convg2g): SpectralTransform(\r\n",
      "            (downsample): Identity()\r\n",
      "            (conv1): Sequential(\r\n",
      "              (0): Conv2d(384, 192, kernel_size=(1, 1), stride=(1, 1), bias=False)\r\n",
      "              (1): BatchNorm2d(192, eps=1e-05, momentum=0.1, affine=True, track_running_stats=True)\r\n",
      "              (2): ReLU(inplace=True)\r\n",
      "            )\r\n",
      "            (fu): FourierUnit(\r\n",
      "              (conv_layer): Conv2d(384, 384, kernel_size=(1, 1), stride=(1, 1), bias=False)\r\n",
      "              (bn): BatchNorm2d(384, eps=1e-05, momentum=0.1, affine=True, track_running_stats=True)\r\n",
      "              (relu): ReLU(inplace=True)\r\n",
      "            )\r\n",
      "            (conv2): Conv2d(192, 384, kernel_size=(1, 1), stride=(1, 1), bias=False)\r\n",
      "          )\r\n",
      "          (gate): Identity()\r\n",
      "        )\r\n",
      "        (bn_l): BatchNorm2d(128, eps=1e-05, momentum=0.1, affine=True, track_running_stats=True)\r\n",
      "        (bn_g): BatchNorm2d(384, eps=1e-05, momentum=0.1, affine=True, track_running_stats=True)\r\n",
      "        (act_l): ReLU(inplace=True)\r\n",
      "        (act_g): ReLU(inplace=True)\r\n",
      "      )\r\n",
      "    )\r\n",
      "    (7): FFCResnetBlock(\r\n",
      "      (conv1): FFC_BN_ACT(\r\n",
      "        (ffc): FFC(\r\n",
      "          (convl2l): Conv2d(128, 128, kernel_size=(3, 3), stride=(1, 1), padding=(1, 1), bias=False, padding_mode=reflect)\r\n",
      "          (convl2g): Conv2d(128, 384, kernel_size=(3, 3), stride=(1, 1), padding=(1, 1), bias=False, padding_mode=reflect)\r\n",
      "          (convg2l): Conv2d(384, 128, kernel_size=(3, 3), stride=(1, 1), padding=(1, 1), bias=False, padding_mode=reflect)\r\n",
      "          (convg2g): SpectralTransform(\r\n",
      "            (downsample): Identity()\r\n",
      "            (conv1): Sequential(\r\n",
      "              (0): Conv2d(384, 192, kernel_size=(1, 1), stride=(1, 1), bias=False)\r\n",
      "              (1): BatchNorm2d(192, eps=1e-05, momentum=0.1, affine=True, track_running_stats=True)\r\n",
      "              (2): ReLU(inplace=True)\r\n",
      "            )\r\n",
      "            (fu): FourierUnit(\r\n",
      "              (conv_layer): Conv2d(384, 384, kernel_size=(1, 1), stride=(1, 1), bias=False)\r\n",
      "              (bn): BatchNorm2d(384, eps=1e-05, momentum=0.1, affine=True, track_running_stats=True)\r\n",
      "              (relu): ReLU(inplace=True)\r\n",
      "            )\r\n",
      "            (conv2): Conv2d(192, 384, kernel_size=(1, 1), stride=(1, 1), bias=False)\r\n",
      "          )\r\n",
      "          (gate): Identity()\r\n",
      "        )\r\n",
      "        (bn_l): BatchNorm2d(128, eps=1e-05, momentum=0.1, affine=True, track_running_stats=True)\r\n",
      "        (bn_g): BatchNorm2d(384, eps=1e-05, momentum=0.1, affine=True, track_running_stats=True)\r\n",
      "        (act_l): ReLU(inplace=True)\r\n",
      "        (act_g): ReLU(inplace=True)\r\n",
      "      )\r\n",
      "      (conv2): FFC_BN_ACT(\r\n",
      "        (ffc): FFC(\r\n",
      "          (convl2l): Conv2d(128, 128, kernel_size=(3, 3), stride=(1, 1), padding=(1, 1), bias=False, padding_mode=reflect)\r\n",
      "          (convl2g): Conv2d(128, 384, kernel_size=(3, 3), stride=(1, 1), padding=(1, 1), bias=False, padding_mode=reflect)\r\n",
      "          (convg2l): Conv2d(384, 128, kernel_size=(3, 3), stride=(1, 1), padding=(1, 1), bias=False, padding_mode=reflect)\r\n",
      "          (convg2g): SpectralTransform(\r\n",
      "            (downsample): Identity()\r\n",
      "            (conv1): Sequential(\r\n",
      "              (0): Conv2d(384, 192, kernel_size=(1, 1), stride=(1, 1), bias=False)\r\n",
      "              (1): BatchNorm2d(192, eps=1e-05, momentum=0.1, affine=True, track_running_stats=True)\r\n",
      "              (2): ReLU(inplace=True)\r\n",
      "            )\r\n",
      "            (fu): FourierUnit(\r\n",
      "              (conv_layer): Conv2d(384, 384, kernel_size=(1, 1), stride=(1, 1), bias=False)\r\n",
      "              (bn): BatchNorm2d(384, eps=1e-05, momentum=0.1, affine=True, track_running_stats=True)\r\n",
      "              (relu): ReLU(inplace=True)\r\n",
      "            )\r\n",
      "            (conv2): Conv2d(192, 384, kernel_size=(1, 1), stride=(1, 1), bias=False)\r\n",
      "          )\r\n",
      "          (gate): Identity()\r\n",
      "        )\r\n",
      "        (bn_l): BatchNorm2d(128, eps=1e-05, momentum=0.1, affine=True, track_running_stats=True)\r\n",
      "        (bn_g): BatchNorm2d(384, eps=1e-05, momentum=0.1, affine=True, track_running_stats=True)\r\n",
      "        (act_l): ReLU(inplace=True)\r\n",
      "        (act_g): ReLU(inplace=True)\r\n",
      "      )\r\n",
      "    )\r\n",
      "    (8): FFCResnetBlock(\r\n",
      "      (conv1): FFC_BN_ACT(\r\n",
      "        (ffc): FFC(\r\n",
      "          (convl2l): Conv2d(128, 128, kernel_size=(3, 3), stride=(1, 1), padding=(1, 1), bias=False, padding_mode=reflect)\r\n",
      "          (convl2g): Conv2d(128, 384, kernel_size=(3, 3), stride=(1, 1), padding=(1, 1), bias=False, padding_mode=reflect)\r\n",
      "          (convg2l): Conv2d(384, 128, kernel_size=(3, 3), stride=(1, 1), padding=(1, 1), bias=False, padding_mode=reflect)\r\n",
      "          (convg2g): SpectralTransform(\r\n",
      "            (downsample): Identity()\r\n",
      "            (conv1): Sequential(\r\n",
      "              (0): Conv2d(384, 192, kernel_size=(1, 1), stride=(1, 1), bias=False)\r\n",
      "              (1): BatchNorm2d(192, eps=1e-05, momentum=0.1, affine=True, track_running_stats=True)\r\n",
      "              (2): ReLU(inplace=True)\r\n",
      "            )\r\n",
      "            (fu): FourierUnit(\r\n",
      "              (conv_layer): Conv2d(384, 384, kernel_size=(1, 1), stride=(1, 1), bias=False)\r\n",
      "              (bn): BatchNorm2d(384, eps=1e-05, momentum=0.1, affine=True, track_running_stats=True)\r\n",
      "              (relu): ReLU(inplace=True)\r\n",
      "            )\r\n",
      "            (conv2): Conv2d(192, 384, kernel_size=(1, 1), stride=(1, 1), bias=False)\r\n",
      "          )\r\n",
      "          (gate): Identity()\r\n",
      "        )\r\n",
      "        (bn_l): BatchNorm2d(128, eps=1e-05, momentum=0.1, affine=True, track_running_stats=True)\r\n",
      "        (bn_g): BatchNorm2d(384, eps=1e-05, momentum=0.1, affine=True, track_running_stats=True)\r\n",
      "        (act_l): ReLU(inplace=True)\r\n",
      "        (act_g): ReLU(inplace=True)\r\n",
      "      )\r\n",
      "      (conv2): FFC_BN_ACT(\r\n",
      "        (ffc): FFC(\r\n",
      "          (convl2l): Conv2d(128, 128, kernel_size=(3, 3), stride=(1, 1), padding=(1, 1), bias=False, padding_mode=reflect)\r\n",
      "          (convl2g): Conv2d(128, 384, kernel_size=(3, 3), stride=(1, 1), padding=(1, 1), bias=False, padding_mode=reflect)\r\n",
      "          (convg2l): Conv2d(384, 128, kernel_size=(3, 3), stride=(1, 1), padding=(1, 1), bias=False, padding_mode=reflect)\r\n",
      "          (convg2g): SpectralTransform(\r\n",
      "            (downsample): Identity()\r\n",
      "            (conv1): Sequential(\r\n",
      "              (0): Conv2d(384, 192, kernel_size=(1, 1), stride=(1, 1), bias=False)\r\n",
      "              (1): BatchNorm2d(192, eps=1e-05, momentum=0.1, affine=True, track_running_stats=True)\r\n",
      "              (2): ReLU(inplace=True)\r\n",
      "            )\r\n",
      "            (fu): FourierUnit(\r\n",
      "              (conv_layer): Conv2d(384, 384, kernel_size=(1, 1), stride=(1, 1), bias=False)\r\n",
      "              (bn): BatchNorm2d(384, eps=1e-05, momentum=0.1, affine=True, track_running_stats=True)\r\n",
      "              (relu): ReLU(inplace=True)\r\n",
      "            )\r\n",
      "            (conv2): Conv2d(192, 384, kernel_size=(1, 1), stride=(1, 1), bias=False)\r\n",
      "          )\r\n",
      "          (gate): Identity()\r\n",
      "        )\r\n",
      "        (bn_l): BatchNorm2d(128, eps=1e-05, momentum=0.1, affine=True, track_running_stats=True)\r\n",
      "        (bn_g): BatchNorm2d(384, eps=1e-05, momentum=0.1, affine=True, track_running_stats=True)\r\n",
      "        (act_l): ReLU(inplace=True)\r\n",
      "        (act_g): ReLU(inplace=True)\r\n",
      "      )\r\n",
      "    )\r\n",
      "    (9): FFCResnetBlock(\r\n",
      "      (conv1): FFC_BN_ACT(\r\n",
      "        (ffc): FFC(\r\n",
      "          (convl2l): Conv2d(128, 128, kernel_size=(3, 3), stride=(1, 1), padding=(1, 1), bias=False, padding_mode=reflect)\r\n",
      "          (convl2g): Conv2d(128, 384, kernel_size=(3, 3), stride=(1, 1), padding=(1, 1), bias=False, padding_mode=reflect)\r\n",
      "          (convg2l): Conv2d(384, 128, kernel_size=(3, 3), stride=(1, 1), padding=(1, 1), bias=False, padding_mode=reflect)\r\n",
      "          (convg2g): SpectralTransform(\r\n",
      "            (downsample): Identity()\r\n",
      "            (conv1): Sequential(\r\n",
      "              (0): Conv2d(384, 192, kernel_size=(1, 1), stride=(1, 1), bias=False)\r\n",
      "              (1): BatchNorm2d(192, eps=1e-05, momentum=0.1, affine=True, track_running_stats=True)\r\n",
      "              (2): ReLU(inplace=True)\r\n",
      "            )\r\n",
      "            (fu): FourierUnit(\r\n",
      "              (conv_layer): Conv2d(384, 384, kernel_size=(1, 1), stride=(1, 1), bias=False)\r\n",
      "              (bn): BatchNorm2d(384, eps=1e-05, momentum=0.1, affine=True, track_running_stats=True)\r\n",
      "              (relu): ReLU(inplace=True)\r\n",
      "            )\r\n",
      "            (conv2): Conv2d(192, 384, kernel_size=(1, 1), stride=(1, 1), bias=False)\r\n",
      "          )\r\n",
      "          (gate): Identity()\r\n",
      "        )\r\n",
      "        (bn_l): BatchNorm2d(128, eps=1e-05, momentum=0.1, affine=True, track_running_stats=True)\r\n",
      "        (bn_g): BatchNorm2d(384, eps=1e-05, momentum=0.1, affine=True, track_running_stats=True)\r\n",
      "        (act_l): ReLU(inplace=True)\r\n",
      "        (act_g): ReLU(inplace=True)\r\n",
      "      )\r\n",
      "      (conv2): FFC_BN_ACT(\r\n",
      "        (ffc): FFC(\r\n",
      "          (convl2l): Conv2d(128, 128, kernel_size=(3, 3), stride=(1, 1), padding=(1, 1), bias=False, padding_mode=reflect)\r\n",
      "          (convl2g): Conv2d(128, 384, kernel_size=(3, 3), stride=(1, 1), padding=(1, 1), bias=False, padding_mode=reflect)\r\n",
      "          (convg2l): Conv2d(384, 128, kernel_size=(3, 3), stride=(1, 1), padding=(1, 1), bias=False, padding_mode=reflect)\r\n",
      "          (convg2g): SpectralTransform(\r\n",
      "            (downsample): Identity()\r\n",
      "            (conv1): Sequential(\r\n",
      "              (0): Conv2d(384, 192, kernel_size=(1, 1), stride=(1, 1), bias=False)\r\n",
      "              (1): BatchNorm2d(192, eps=1e-05, momentum=0.1, affine=True, track_running_stats=True)\r\n",
      "              (2): ReLU(inplace=True)\r\n",
      "            )\r\n",
      "            (fu): FourierUnit(\r\n",
      "              (conv_layer): Conv2d(384, 384, kernel_size=(1, 1), stride=(1, 1), bias=False)\r\n",
      "              (bn): BatchNorm2d(384, eps=1e-05, momentum=0.1, affine=True, track_running_stats=True)\r\n",
      "              (relu): ReLU(inplace=True)\r\n",
      "            )\r\n",
      "            (conv2): Conv2d(192, 384, kernel_size=(1, 1), stride=(1, 1), bias=False)\r\n",
      "          )\r\n",
      "          (gate): Identity()\r\n",
      "        )\r\n",
      "        (bn_l): BatchNorm2d(128, eps=1e-05, momentum=0.1, affine=True, track_running_stats=True)\r\n",
      "        (bn_g): BatchNorm2d(384, eps=1e-05, momentum=0.1, affine=True, track_running_stats=True)\r\n",
      "        (act_l): ReLU(inplace=True)\r\n",
      "        (act_g): ReLU(inplace=True)\r\n",
      "      )\r\n",
      "    )\r\n",
      "    (10): FFCResnetBlock(\r\n",
      "      (conv1): FFC_BN_ACT(\r\n",
      "        (ffc): FFC(\r\n",
      "          (convl2l): Conv2d(128, 128, kernel_size=(3, 3), stride=(1, 1), padding=(1, 1), bias=False, padding_mode=reflect)\r\n",
      "          (convl2g): Conv2d(128, 384, kernel_size=(3, 3), stride=(1, 1), padding=(1, 1), bias=False, padding_mode=reflect)\r\n",
      "          (convg2l): Conv2d(384, 128, kernel_size=(3, 3), stride=(1, 1), padding=(1, 1), bias=False, padding_mode=reflect)\r\n",
      "          (convg2g): SpectralTransform(\r\n",
      "            (downsample): Identity()\r\n",
      "            (conv1): Sequential(\r\n",
      "              (0): Conv2d(384, 192, kernel_size=(1, 1), stride=(1, 1), bias=False)\r\n",
      "              (1): BatchNorm2d(192, eps=1e-05, momentum=0.1, affine=True, track_running_stats=True)\r\n",
      "              (2): ReLU(inplace=True)\r\n",
      "            )\r\n",
      "            (fu): FourierUnit(\r\n",
      "              (conv_layer): Conv2d(384, 384, kernel_size=(1, 1), stride=(1, 1), bias=False)\r\n",
      "              (bn): BatchNorm2d(384, eps=1e-05, momentum=0.1, affine=True, track_running_stats=True)\r\n",
      "              (relu): ReLU(inplace=True)\r\n",
      "            )\r\n",
      "            (conv2): Conv2d(192, 384, kernel_size=(1, 1), stride=(1, 1), bias=False)\r\n",
      "          )\r\n",
      "          (gate): Identity()\r\n",
      "        )\r\n",
      "        (bn_l): BatchNorm2d(128, eps=1e-05, momentum=0.1, affine=True, track_running_stats=True)\r\n",
      "        (bn_g): BatchNorm2d(384, eps=1e-05, momentum=0.1, affine=True, track_running_stats=True)\r\n",
      "        (act_l): ReLU(inplace=True)\r\n",
      "        (act_g): ReLU(inplace=True)\r\n",
      "      )\r\n",
      "      (conv2): FFC_BN_ACT(\r\n",
      "        (ffc): FFC(\r\n",
      "          (convl2l): Conv2d(128, 128, kernel_size=(3, 3), stride=(1, 1), padding=(1, 1), bias=False, padding_mode=reflect)\r\n",
      "          (convl2g): Conv2d(128, 384, kernel_size=(3, 3), stride=(1, 1), padding=(1, 1), bias=False, padding_mode=reflect)\r\n",
      "          (convg2l): Conv2d(384, 128, kernel_size=(3, 3), stride=(1, 1), padding=(1, 1), bias=False, padding_mode=reflect)\r\n",
      "          (convg2g): SpectralTransform(\r\n",
      "            (downsample): Identity()\r\n",
      "            (conv1): Sequential(\r\n",
      "              (0): Conv2d(384, 192, kernel_size=(1, 1), stride=(1, 1), bias=False)\r\n",
      "              (1): BatchNorm2d(192, eps=1e-05, momentum=0.1, affine=True, track_running_stats=True)\r\n",
      "              (2): ReLU(inplace=True)\r\n",
      "            )\r\n",
      "            (fu): FourierUnit(\r\n",
      "              (conv_layer): Conv2d(384, 384, kernel_size=(1, 1), stride=(1, 1), bias=False)\r\n",
      "              (bn): BatchNorm2d(384, eps=1e-05, momentum=0.1, affine=True, track_running_stats=True)\r\n",
      "              (relu): ReLU(inplace=True)\r\n",
      "            )\r\n",
      "            (conv2): Conv2d(192, 384, kernel_size=(1, 1), stride=(1, 1), bias=False)\r\n",
      "          )\r\n",
      "          (gate): Identity()\r\n",
      "        )\r\n",
      "        (bn_l): BatchNorm2d(128, eps=1e-05, momentum=0.1, affine=True, track_running_stats=True)\r\n",
      "        (bn_g): BatchNorm2d(384, eps=1e-05, momentum=0.1, affine=True, track_running_stats=True)\r\n",
      "        (act_l): ReLU(inplace=True)\r\n",
      "        (act_g): ReLU(inplace=True)\r\n",
      "      )\r\n",
      "    )\r\n",
      "    (11): FFCResnetBlock(\r\n",
      "      (conv1): FFC_BN_ACT(\r\n",
      "        (ffc): FFC(\r\n",
      "          (convl2l): Conv2d(128, 128, kernel_size=(3, 3), stride=(1, 1), padding=(1, 1), bias=False, padding_mode=reflect)\r\n",
      "          (convl2g): Conv2d(128, 384, kernel_size=(3, 3), stride=(1, 1), padding=(1, 1), bias=False, padding_mode=reflect)\r\n",
      "          (convg2l): Conv2d(384, 128, kernel_size=(3, 3), stride=(1, 1), padding=(1, 1), bias=False, padding_mode=reflect)\r\n",
      "          (convg2g): SpectralTransform(\r\n",
      "            (downsample): Identity()\r\n",
      "            (conv1): Sequential(\r\n",
      "              (0): Conv2d(384, 192, kernel_size=(1, 1), stride=(1, 1), bias=False)\r\n",
      "              (1): BatchNorm2d(192, eps=1e-05, momentum=0.1, affine=True, track_running_stats=True)\r\n",
      "              (2): ReLU(inplace=True)\r\n",
      "            )\r\n",
      "            (fu): FourierUnit(\r\n",
      "              (conv_layer): Conv2d(384, 384, kernel_size=(1, 1), stride=(1, 1), bias=False)\r\n",
      "              (bn): BatchNorm2d(384, eps=1e-05, momentum=0.1, affine=True, track_running_stats=True)\r\n",
      "              (relu): ReLU(inplace=True)\r\n",
      "            )\r\n",
      "            (conv2): Conv2d(192, 384, kernel_size=(1, 1), stride=(1, 1), bias=False)\r\n",
      "          )\r\n",
      "          (gate): Identity()\r\n",
      "        )\r\n",
      "        (bn_l): BatchNorm2d(128, eps=1e-05, momentum=0.1, affine=True, track_running_stats=True)\r\n",
      "        (bn_g): BatchNorm2d(384, eps=1e-05, momentum=0.1, affine=True, track_running_stats=True)\r\n",
      "        (act_l): ReLU(inplace=True)\r\n",
      "        (act_g): ReLU(inplace=True)\r\n",
      "      )\r\n",
      "      (conv2): FFC_BN_ACT(\r\n",
      "        (ffc): FFC(\r\n",
      "          (convl2l): Conv2d(128, 128, kernel_size=(3, 3), stride=(1, 1), padding=(1, 1), bias=False, padding_mode=reflect)\r\n",
      "          (convl2g): Conv2d(128, 384, kernel_size=(3, 3), stride=(1, 1), padding=(1, 1), bias=False, padding_mode=reflect)\r\n",
      "          (convg2l): Conv2d(384, 128, kernel_size=(3, 3), stride=(1, 1), padding=(1, 1), bias=False, padding_mode=reflect)\r\n",
      "          (convg2g): SpectralTransform(\r\n",
      "            (downsample): Identity()\r\n",
      "            (conv1): Sequential(\r\n",
      "              (0): Conv2d(384, 192, kernel_size=(1, 1), stride=(1, 1), bias=False)\r\n",
      "              (1): BatchNorm2d(192, eps=1e-05, momentum=0.1, affine=True, track_running_stats=True)\r\n",
      "              (2): ReLU(inplace=True)\r\n",
      "            )\r\n",
      "            (fu): FourierUnit(\r\n",
      "              (conv_layer): Conv2d(384, 384, kernel_size=(1, 1), stride=(1, 1), bias=False)\r\n",
      "              (bn): BatchNorm2d(384, eps=1e-05, momentum=0.1, affine=True, track_running_stats=True)\r\n",
      "              (relu): ReLU(inplace=True)\r\n",
      "            )\r\n",
      "            (conv2): Conv2d(192, 384, kernel_size=(1, 1), stride=(1, 1), bias=False)\r\n",
      "          )\r\n",
      "          (gate): Identity()\r\n",
      "        )\r\n",
      "        (bn_l): BatchNorm2d(128, eps=1e-05, momentum=0.1, affine=True, track_running_stats=True)\r\n",
      "        (bn_g): BatchNorm2d(384, eps=1e-05, momentum=0.1, affine=True, track_running_stats=True)\r\n",
      "        (act_l): ReLU(inplace=True)\r\n",
      "        (act_g): ReLU(inplace=True)\r\n",
      "      )\r\n",
      "    )\r\n",
      "    (12): FFCResnetBlock(\r\n",
      "      (conv1): FFC_BN_ACT(\r\n",
      "        (ffc): FFC(\r\n",
      "          (convl2l): Conv2d(128, 128, kernel_size=(3, 3), stride=(1, 1), padding=(1, 1), bias=False, padding_mode=reflect)\r\n",
      "          (convl2g): Conv2d(128, 384, kernel_size=(3, 3), stride=(1, 1), padding=(1, 1), bias=False, padding_mode=reflect)\r\n",
      "          (convg2l): Conv2d(384, 128, kernel_size=(3, 3), stride=(1, 1), padding=(1, 1), bias=False, padding_mode=reflect)\r\n",
      "          (convg2g): SpectralTransform(\r\n",
      "            (downsample): Identity()\r\n",
      "            (conv1): Sequential(\r\n",
      "              (0): Conv2d(384, 192, kernel_size=(1, 1), stride=(1, 1), bias=False)\r\n",
      "              (1): BatchNorm2d(192, eps=1e-05, momentum=0.1, affine=True, track_running_stats=True)\r\n",
      "              (2): ReLU(inplace=True)\r\n",
      "            )\r\n",
      "            (fu): FourierUnit(\r\n",
      "              (conv_layer): Conv2d(384, 384, kernel_size=(1, 1), stride=(1, 1), bias=False)\r\n",
      "              (bn): BatchNorm2d(384, eps=1e-05, momentum=0.1, affine=True, track_running_stats=True)\r\n",
      "              (relu): ReLU(inplace=True)\r\n",
      "            )\r\n",
      "            (conv2): Conv2d(192, 384, kernel_size=(1, 1), stride=(1, 1), bias=False)\r\n",
      "          )\r\n",
      "          (gate): Identity()\r\n",
      "        )\r\n",
      "        (bn_l): BatchNorm2d(128, eps=1e-05, momentum=0.1, affine=True, track_running_stats=True)\r\n",
      "        (bn_g): BatchNorm2d(384, eps=1e-05, momentum=0.1, affine=True, track_running_stats=True)\r\n",
      "        (act_l): ReLU(inplace=True)\r\n",
      "        (act_g): ReLU(inplace=True)\r\n",
      "      )\r\n",
      "      (conv2): FFC_BN_ACT(\r\n",
      "        (ffc): FFC(\r\n",
      "          (convl2l): Conv2d(128, 128, kernel_size=(3, 3), stride=(1, 1), padding=(1, 1), bias=False, padding_mode=reflect)\r\n",
      "          (convl2g): Conv2d(128, 384, kernel_size=(3, 3), stride=(1, 1), padding=(1, 1), bias=False, padding_mode=reflect)\r\n",
      "          (convg2l): Conv2d(384, 128, kernel_size=(3, 3), stride=(1, 1), padding=(1, 1), bias=False, padding_mode=reflect)\r\n",
      "          (convg2g): SpectralTransform(\r\n",
      "            (downsample): Identity()\r\n",
      "            (conv1): Sequential(\r\n",
      "              (0): Conv2d(384, 192, kernel_size=(1, 1), stride=(1, 1), bias=False)\r\n",
      "              (1): BatchNorm2d(192, eps=1e-05, momentum=0.1, affine=True, track_running_stats=True)\r\n",
      "              (2): ReLU(inplace=True)\r\n",
      "            )\r\n",
      "            (fu): FourierUnit(\r\n",
      "              (conv_layer): Conv2d(384, 384, kernel_size=(1, 1), stride=(1, 1), bias=False)\r\n",
      "              (bn): BatchNorm2d(384, eps=1e-05, momentum=0.1, affine=True, track_running_stats=True)\r\n",
      "              (relu): ReLU(inplace=True)\r\n",
      "            )\r\n",
      "            (conv2): Conv2d(192, 384, kernel_size=(1, 1), stride=(1, 1), bias=False)\r\n",
      "          )\r\n",
      "          (gate): Identity()\r\n",
      "        )\r\n",
      "        (bn_l): BatchNorm2d(128, eps=1e-05, momentum=0.1, affine=True, track_running_stats=True)\r\n",
      "        (bn_g): BatchNorm2d(384, eps=1e-05, momentum=0.1, affine=True, track_running_stats=True)\r\n",
      "        (act_l): ReLU(inplace=True)\r\n",
      "        (act_g): ReLU(inplace=True)\r\n",
      "      )\r\n",
      "    )\r\n",
      "    (13): FFCResnetBlock(\r\n",
      "      (conv1): FFC_BN_ACT(\r\n",
      "        (ffc): FFC(\r\n",
      "          (convl2l): Conv2d(128, 128, kernel_size=(3, 3), stride=(1, 1), padding=(1, 1), bias=False, padding_mode=reflect)\r\n",
      "          (convl2g): Conv2d(128, 384, kernel_size=(3, 3), stride=(1, 1), padding=(1, 1), bias=False, padding_mode=reflect)\r\n",
      "          (convg2l): Conv2d(384, 128, kernel_size=(3, 3), stride=(1, 1), padding=(1, 1), bias=False, padding_mode=reflect)\r\n",
      "          (convg2g): SpectralTransform(\r\n",
      "            (downsample): Identity()\r\n",
      "            (conv1): Sequential(\r\n",
      "              (0): Conv2d(384, 192, kernel_size=(1, 1), stride=(1, 1), bias=False)\r\n",
      "              (1): BatchNorm2d(192, eps=1e-05, momentum=0.1, affine=True, track_running_stats=True)\r\n",
      "              (2): ReLU(inplace=True)\r\n",
      "            )\r\n",
      "            (fu): FourierUnit(\r\n",
      "              (conv_layer): Conv2d(384, 384, kernel_size=(1, 1), stride=(1, 1), bias=False)\r\n",
      "              (bn): BatchNorm2d(384, eps=1e-05, momentum=0.1, affine=True, track_running_stats=True)\r\n",
      "              (relu): ReLU(inplace=True)\r\n",
      "            )\r\n",
      "            (conv2): Conv2d(192, 384, kernel_size=(1, 1), stride=(1, 1), bias=False)\r\n",
      "          )\r\n",
      "          (gate): Identity()\r\n",
      "        )\r\n",
      "        (bn_l): BatchNorm2d(128, eps=1e-05, momentum=0.1, affine=True, track_running_stats=True)\r\n",
      "        (bn_g): BatchNorm2d(384, eps=1e-05, momentum=0.1, affine=True, track_running_stats=True)\r\n",
      "        (act_l): ReLU(inplace=True)\r\n",
      "        (act_g): ReLU(inplace=True)\r\n",
      "      )\r\n",
      "      (conv2): FFC_BN_ACT(\r\n",
      "        (ffc): FFC(\r\n",
      "          (convl2l): Conv2d(128, 128, kernel_size=(3, 3), stride=(1, 1), padding=(1, 1), bias=False, padding_mode=reflect)\r\n",
      "          (convl2g): Conv2d(128, 384, kernel_size=(3, 3), stride=(1, 1), padding=(1, 1), bias=False, padding_mode=reflect)\r\n",
      "          (convg2l): Conv2d(384, 128, kernel_size=(3, 3), stride=(1, 1), padding=(1, 1), bias=False, padding_mode=reflect)\r\n",
      "          (convg2g): SpectralTransform(\r\n",
      "            (downsample): Identity()\r\n",
      "            (conv1): Sequential(\r\n",
      "              (0): Conv2d(384, 192, kernel_size=(1, 1), stride=(1, 1), bias=False)\r\n",
      "              (1): BatchNorm2d(192, eps=1e-05, momentum=0.1, affine=True, track_running_stats=True)\r\n",
      "              (2): ReLU(inplace=True)\r\n",
      "            )\r\n",
      "            (fu): FourierUnit(\r\n",
      "              (conv_layer): Conv2d(384, 384, kernel_size=(1, 1), stride=(1, 1), bias=False)\r\n",
      "              (bn): BatchNorm2d(384, eps=1e-05, momentum=0.1, affine=True, track_running_stats=True)\r\n",
      "              (relu): ReLU(inplace=True)\r\n",
      "            )\r\n",
      "            (conv2): Conv2d(192, 384, kernel_size=(1, 1), stride=(1, 1), bias=False)\r\n",
      "          )\r\n",
      "          (gate): Identity()\r\n",
      "        )\r\n",
      "        (bn_l): BatchNorm2d(128, eps=1e-05, momentum=0.1, affine=True, track_running_stats=True)\r\n",
      "        (bn_g): BatchNorm2d(384, eps=1e-05, momentum=0.1, affine=True, track_running_stats=True)\r\n",
      "        (act_l): ReLU(inplace=True)\r\n",
      "        (act_g): ReLU(inplace=True)\r\n",
      "      )\r\n",
      "    )\r\n",
      "    (14): ConcatTupleLayer()\r\n",
      "    (15): ConvTranspose2d(512, 256, kernel_size=(3, 3), stride=(2, 2), padding=(1, 1), output_padding=(1, 1))\r\n",
      "    (16): BatchNorm2d(256, eps=1e-05, momentum=0.1, affine=True, track_running_stats=True)\r\n",
      "    (17): ReLU(inplace=True)\r\n",
      "    (18): ConvTranspose2d(256, 128, kernel_size=(3, 3), stride=(2, 2), padding=(1, 1), output_padding=(1, 1))\r\n",
      "    (19): BatchNorm2d(128, eps=1e-05, momentum=0.1, affine=True, track_running_stats=True)\r\n",
      "    (20): ReLU(inplace=True)\r\n",
      "    (21): ConvTranspose2d(128, 64, kernel_size=(3, 3), stride=(2, 2), padding=(1, 1), output_padding=(1, 1))\r\n",
      "    (22): BatchNorm2d(64, eps=1e-05, momentum=0.1, affine=True, track_running_stats=True)\r\n",
      "    (23): ReLU(inplace=True)\r\n",
      "    (24): ReflectionPad2d((3, 3, 3, 3))\r\n",
      "    (25): Conv2d(64, 3, kernel_size=(7, 7), stride=(1, 1))\r\n",
      "    (26): Sigmoid()\r\n",
      "  )\r\n",
      ")\r\n",
      "[2024-09-15 22:46:49,193][saicinpainting.training.trainers.base][INFO] - BaseInpaintingTrainingModule init done\r\n",
      "[2024-09-15 22:46:49,414][saicinpainting.training.data.datasets][INFO] - Make val dataloader default from /Users/rouna/coding/projects/personal/lama/LaMa_test_images/\r\n",
      "100%|█████████████████████████████████████████████| 1/1 [00:02<00:00,  2.01s/it]\r\n"
     ]
    }
   ],
   "source": [
    "try:\n",
    "  remove(path='output/image_mask000.png')\n",
    "except:\n",
    "  pass\n",
    "!python3 bin/predict.py model.path=$(pwd)/LaMa_models/lama-places/lama-fourier indir=$(pwd)/LaMa_test_images/ outdir=$(pwd)/output/"
   ]
  },
  {
   "cell_type": "code",
   "execution_count": 29,
   "outputs": [
    {
     "data": {
      "text/plain": "<PIL.Image.Image image mode=RGB size=509x339>",
      "image/png": "[encoded data removed]",
      "image/jpeg": "[encoded data removed]"
     },
     "metadata": {},
     "output_type": "display_data"
    }
   ],
   "source": [
    "inpainted_image = cv2.imread('output/image_mask000.png')\n",
    "cv2_imshow(inpainted_image)"
   ],
   "metadata": {
    "collapsed": false,
    "ExecuteTime": {
     "end_time": "2024-09-16T01:57:00.412942Z",
     "start_time": "2024-09-16T01:57:00.402856Z"
    }
   }
  },
  {
   "cell_type": "code",
   "execution_count": null,
   "outputs": [],
   "source": [],
   "metadata": {
    "collapsed": false,
    "ExecuteTime": {
     "start_time": "2023-10-20T12:10:08.525451Z"
    }
   }
  }
 ],
 "metadata": {
  "accelerator": "GPU",
  "colab": {
   "gpuType": "T4",
   "provenance": []
  },
  "kernelspec": {
   "display_name": "Python 3 (ipykernel)",
   "language": "python",
   "name": "python3"
  },
  "language_info": {
   "codemirror_mode": {
    "name": "ipython",
    "version": 3
   },
   "file_extension": ".py",
   "mimetype": "text/x-python",
   "name": "python",
   "nbconvert_exporter": "python",
   "pygments_lexer": "ipython3",
   "version": "3.9.7"
  }
 },
 "nbformat": 4,
 "nbformat_minor": 4
}
